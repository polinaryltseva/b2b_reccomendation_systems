{
 "cells": [
  {
   "cell_type": "code",
   "execution_count": 1,
   "metadata": {},
   "outputs": [],
   "source": [
    "import polars as pl"
   ]
  },
  {
   "cell_type": "code",
   "execution_count": 18,
   "metadata": {},
   "outputs": [],
   "source": [
    "data1 = pl.read_excel(source='data/data1.xlsx', engine=\"xlsx2csv\", sheet_name=\"Результаты поиска\")\n",
    "data2 = pl.read_excel(source='data/data2.xlsx', engine=\"xlsx2csv\", sheet_name=\"Результаты поиска\")\n",
    "data3 = pl.read_excel(source='data/data3.xlsx', engine=\"xlsx2csv\", sheet_name=\"Результаты поиска\")\n",
    "data4 = pl.read_excel(source='data/data4.xlsx', engine=\"xlsx2csv\", sheet_name=\"Результаты поиска\")\n",
    "data5 = pl.read_excel(source='data/data5.xlsx', engine=\"xlsx2csv\", sheet_name=\"Результаты поиска\")"
   ]
  },
  {
   "cell_type": "markdown",
   "metadata": {},
   "source": [
    "Оставляем только те строки, где известен победитель и есть ИНН заказчика и поставщика."
   ]
  },
  {
   "cell_type": "code",
   "execution_count": 225,
   "metadata": {},
   "outputs": [],
   "source": [
    "fdata1 = data1.filter(pl.col(\"ИНН поставщика\").is_not_null() & pl.col(\"ИНН заказчика\").is_not_null())\n",
    "fdata2 = data2.filter(pl.col(\"ИНН поставщика\").is_not_null() & pl.col(\"ИНН заказчика\").is_not_null())\n",
    "fdata3 = data3.filter(pl.col(\"ИНН поставщика\").is_not_null() & pl.col(\"ИНН заказчика\").is_not_null())\n",
    "fdata4 = data4.filter(pl.col(\"ИНН поставщика\").is_not_null() & pl.col(\"ИНН заказчика\").is_not_null())\n",
    "fdata5 = data5.filter(pl.col(\"ИНН поставщика\").is_not_null() & pl.col(\"ИНН заказчика\").is_not_null())"
   ]
  },
  {
   "cell_type": "code",
   "execution_count": 337,
   "metadata": {},
   "outputs": [
    {
     "data": {
      "text/plain": [
       "(168453, 18)"
      ]
     },
     "execution_count": 337,
     "metadata": {},
     "output_type": "execute_result"
    }
   ],
   "source": [
    "data = pl.concat([fdata1, fdata2, fdata3, fdata5])\n",
    "data = data.with_columns(pl.col(\"ИНН поставщика\").str.to_integer())\n",
    "data = pl.concat([data, fdata4])\n",
    "data.shape"
   ]
  },
  {
   "cell_type": "markdown",
   "metadata": {},
   "source": [
    "Убираем дупликаты"
   ]
  },
  {
   "cell_type": "code",
   "execution_count": null,
   "metadata": {},
   "outputs": [],
   "source": [
    "data = data.unique(maintain_order=True)\n",
    "data.shape"
   ]
  },
  {
   "cell_type": "code",
   "execution_count": 338,
   "metadata": {},
   "outputs": [],
   "source": [
    "data = data.rename({'Дата \\nокончания приема заявок / Дата планового окончания исполнения контракта / Плановая дата публикации лота по ППГ':'Дата окончания приема заявок / Дата планового окончания исполнения контракта / Плановая дата публикации лота по ППГ',\n",
    "                    'Дата начала подачи заявок/Дата начала исполнения контракта / Дата публикации ППГ' : 'Дата начала подачи заявок / Дата начала исполнения контракта / Дата публикации ППГ',\n",
    "                    'Дата  окончания проведения торгов' : 'Дата окончания проведения торгов'})"
   ]
  },
  {
   "cell_type": "markdown",
   "metadata": {},
   "source": [
    "Оставляем только те строки, где известно снижение на торгах"
   ]
  },
  {
   "cell_type": "code",
   "execution_count": 339,
   "metadata": {},
   "outputs": [
    {
     "data": {
      "text/plain": [
       "(135397, 18)"
      ]
     },
     "execution_count": 339,
     "metadata": {},
     "output_type": "execute_result"
    }
   ],
   "source": [
    "data = data.filter(pl.col(\"Снижение на торгах,%\").is_not_null())\n",
    "data.shape"
   ]
  },
  {
   "cell_type": "markdown",
   "metadata": {},
   "source": [
    "Уберем нереалистичные значения в ставках в Снижение на торгах,% "
   ]
  },
  {
   "cell_type": "code",
   "execution_count": 340,
   "metadata": {},
   "outputs": [
    {
     "data": {
      "text/plain": [
       "(135032, 18)"
      ]
     },
     "execution_count": 340,
     "metadata": {},
     "output_type": "execute_result"
    }
   ],
   "source": [
    "data = data.filter((pl.col('Снижение на торгах,%')>=-100))\n",
    "data.shape"
   ]
  },
  {
   "cell_type": "markdown",
   "metadata": {},
   "source": [
    "Теперь работаем с датами"
   ]
  },
  {
   "cell_type": "code",
   "execution_count": 341,
   "metadata": {},
   "outputs": [],
   "source": [
    "ddata = data.with_columns(pl.col('Дата публикации').str.to_date(format=\"%m-%d-%y\", strict=False))\n",
    "ddata = ddata.with_columns(pl.col('Дата окончания приема заявок / Дата планового окончания исполнения контракта / Плановая дата публикации лота по ППГ').str.to_date(format=\"%m-%d-%y\", strict=False))\n",
    "ddata = ddata.with_columns(pl.col('Дата начала подачи заявок / Дата начала исполнения контракта / Дата публикации ППГ').str.to_date(format=\"%m-%d-%y\", strict=False))\n",
    "ddata = ddata.with_columns(pl.col('Дата окончания проведения торгов').str.to_date(format=\"%m-%d-%y\", strict=False))"
   ]
  },
  {
   "cell_type": "code",
   "execution_count": 351,
   "metadata": {},
   "outputs": [
    {
     "data": {
      "text/plain": [
       "(123013, 18)"
      ]
     },
     "execution_count": 351,
     "metadata": {},
     "output_type": "execute_result"
    }
   ],
   "source": [
    "data = ddata.filter(pl.col('Дата публикации').is_not_null() & \n",
    "                         pl.col('Дата окончания приема заявок / Дата планового окончания исполнения контракта / Плановая дата публикации лота по ППГ').is_not_null() & \n",
    "                         pl.col('Дата начала подачи заявок / Дата начала исполнения контракта / Дата публикации ППГ').is_not_null() & \n",
    "                         pl.col('Дата окончания проведения торгов').is_not_null())\n",
    "data.shape"
   ]
  },
  {
   "cell_type": "markdown",
   "metadata": {},
   "source": [
    "Отбираем тендеры, где известен победитель"
   ]
  },
  {
   "cell_type": "code",
   "execution_count": 354,
   "metadata": {},
   "outputs": [
    {
     "data": {
      "text/plain": [
       "(123013, 19)"
      ]
     },
     "execution_count": 354,
     "metadata": {},
     "output_type": "execute_result"
    }
   ],
   "source": [
    "data = data.with_columns(pl.when(pl.col('Победитель')==pl.lit('Победитель')).then(1).otherwise(0).alias('Есть победитель'))\n",
    "data.shape"
   ]
  },
  {
   "cell_type": "code",
   "execution_count": 358,
   "metadata": {},
   "outputs": [
    {
     "data": {
      "text/plain": [
       "(49825, 14)"
      ]
     },
     "execution_count": 358,
     "metadata": {},
     "output_type": "execute_result"
    }
   ],
   "source": [
    "data_group = data.group_by(['Уровень',\n",
    "                            'Заказчик',\n",
    "                            'ИНН заказчика',\n",
    "                            'Стоимость \\n(руб.) Заказчик',\n",
    "                            'Сфера деятельности',\n",
    "                            'Регион поставки',\n",
    "                            'Город поставки',\n",
    "                            'Дата публикации',\n",
    "                            'Дата окончания приема заявок / Дата планового окончания исполнения контракта / Плановая дата публикации лота по ППГ',\n",
    "                            'Дата начала подачи заявок / Дата начала исполнения контракта / Дата публикации ППГ',\n",
    "                            'Дата окончания проведения торгов',\n",
    "                            'Форма публикации',\n",
    "                            'Тип торгов']).agg(pl.col('Есть победитель').sum().alias('Num winner'))\n",
    "data_group.shape"
   ]
  },
  {
   "cell_type": "code",
   "execution_count": 348,
   "metadata": {},
   "outputs": [
    {
     "data": {
      "text/plain": [
       "(12561, 13)"
      ]
     },
     "execution_count": 348,
     "metadata": {},
     "output_type": "execute_result"
    }
   ],
   "source": [
    "dataw = data.filter(pl.col('Победитель')==pl.lit('Победитель')).select(['Уровень',\n",
    "                                                                        'Заказчик',\n",
    "                                                                        'ИНН заказчика',\n",
    "                                                                        'Стоимость \\n(руб.) Заказчик',\n",
    "                                                                        'Сфера деятельности',\n",
    "                                                                        'Регион поставки',\n",
    "                                                                        'Город поставки',\n",
    "                                                                        'Дата публикации',\n",
    "                                                                        'Дата окончания приема заявок / Дата планового окончания исполнения контракта / Плановая дата публикации лота по ППГ',\n",
    "                                                                        'Дата начала подачи заявок / Дата начала исполнения контракта / Дата публикации ППГ',\n",
    "                                                                        'Дата окончания проведения торгов',\n",
    "                                                                        'Форма публикации',\n",
    "                                                                        'Тип торгов'])\n",
    "dataw.shape"
   ]
  },
  {
   "cell_type": "code",
   "execution_count": 359,
   "metadata": {},
   "outputs": [
    {
     "data": {
      "text/plain": [
       "(123013, 20)"
      ]
     },
     "execution_count": 359,
     "metadata": {},
     "output_type": "execute_result"
    }
   ],
   "source": [
    "datanew = data.join(data_group, \n",
    "                    how='left',\n",
    "                    on=['Уровень',\n",
    "                        'Заказчик',\n",
    "                        'ИНН заказчика',\n",
    "                        'Стоимость \\n(руб.) Заказчик',\n",
    "                        'Сфера деятельности',\n",
    "                        'Регион поставки',\n",
    "                        'Город поставки',\n",
    "                        'Дата публикации',\n",
    "                        'Дата окончания приема заявок / Дата планового окончания исполнения контракта / Плановая дата публикации лота по ППГ',\n",
    "                        'Дата начала подачи заявок / Дата начала исполнения контракта / Дата публикации ППГ',\n",
    "                        'Дата окончания проведения торгов',\n",
    "                        'Форма публикации',\n",
    "                        'Тип торгов'])\n",
    "\n",
    "datanew.shape"
   ]
  },
  {
   "cell_type": "code",
   "execution_count": 357,
   "metadata": {},
   "outputs": [
    {
     "data": {
      "text/html": [
       "<div><style>\n",
       ".dataframe > thead > tr,\n",
       ".dataframe > tbody > tr {\n",
       "  text-align: right;\n",
       "  white-space: pre-wrap;\n",
       "}\n",
       "</style>\n",
       "<small>shape: (3, 4)</small><table border=\"1\" class=\"dataframe\"><thead><tr><th>foo</th><th>bar</th><th>ham</th><th>apple</th></tr><tr><td>i64</td><td>f64</td><td>str</td><td>str</td></tr></thead><tbody><tr><td>1</td><td>6.0</td><td>&quot;a&quot;</td><td>&quot;x&quot;</td></tr><tr><td>2</td><td>7.0</td><td>&quot;b&quot;</td><td>&quot;y&quot;</td></tr><tr><td>4</td><td>9.0</td><td>&quot;a&quot;</td><td>&quot;x&quot;</td></tr></tbody></table></div>"
      ],
      "text/plain": [
       "shape: (3, 4)\n",
       "┌─────┬─────┬─────┬───────┐\n",
       "│ foo ┆ bar ┆ ham ┆ apple │\n",
       "│ --- ┆ --- ┆ --- ┆ ---   │\n",
       "│ i64 ┆ f64 ┆ str ┆ str   │\n",
       "╞═════╪═════╪═════╪═══════╡\n",
       "│ 1   ┆ 6.0 ┆ a   ┆ x     │\n",
       "│ 2   ┆ 7.0 ┆ b   ┆ y     │\n",
       "│ 4   ┆ 9.0 ┆ a   ┆ x     │\n",
       "└─────┴─────┴─────┴───────┘"
      ]
     },
     "execution_count": 357,
     "metadata": {},
     "output_type": "execute_result"
    }
   ],
   "source": [
    "df = pl.DataFrame(\n",
    "    {\n",
    "        \"foo\": [1, 2, 3, 4],\n",
    "        \"bar\": [6.0, 7.0, 8.0, 9.0],\n",
    "        \"ham\": [\"a\", \"b\", \"c\", \"a\"],\n",
    "    }\n",
    ")\n",
    "other_df = pl.DataFrame(\n",
    "    {\n",
    "        \"apple\": [\"x\", \"y\", \"z\"],\n",
    "        \"ham\": [\"a\", \"b\", \"d\"],\n",
    "    }\n",
    ")\n",
    "df.join(other_df, on=\"ham\")"
   ]
  },
  {
   "cell_type": "code",
   "execution_count": 362,
   "metadata": {},
   "outputs": [
    {
     "data": {
      "text/plain": [
       "(32449, 20)"
      ]
     },
     "execution_count": 362,
     "metadata": {},
     "output_type": "execute_result"
    }
   ],
   "source": [
    "data = datanew.filter(pl.col('Num winner').is_not_null())\n",
    "data.shape"
   ]
  },
  {
   "cell_type": "code",
   "execution_count": 363,
   "metadata": {},
   "outputs": [
    {
     "data": {
      "text/html": [
       "<div><style>\n",
       ".dataframe > thead > tr,\n",
       ".dataframe > tbody > tr {\n",
       "  text-align: right;\n",
       "  white-space: pre-wrap;\n",
       "}\n",
       "</style>\n",
       "<small>shape: (2, 18)</small><table border=\"1\" class=\"dataframe\"><thead><tr><th>Уровень</th><th>Заказчик</th><th>ИНН заказчика</th><th>Стоимость \n",
       "(руб.) Заказчик</th><th>Сфера деятельности</th><th>Регион поставки</th><th>Город поставки</th><th>Дата публикации</th><th>Дата окончания приема заявок / Дата планового окончания исполнения контракта / Плановая дата публикации лота по ППГ</th><th>Дата начала подачи заявок / Дата начала исполнения контракта / Дата публикации ППГ</th><th>Дата окончания проведения торгов</th><th>Поставщик</th><th>ИНН поставщика</th><th>Победитель</th><th>Статус допуска</th><th>Снижение на торгах,%</th><th>Форма публикации</th><th>Тип торгов</th></tr><tr><td>i64</td><td>str</td><td>i64</td><td>f64</td><td>str</td><td>str</td><td>str</td><td>date</td><td>date</td><td>date</td><td>date</td><td>str</td><td>i64</td><td>str</td><td>str</td><td>f64</td><td>str</td><td>str</td></tr></thead><tbody><tr><td>1</td><td>&quot;АО &quot;РОССЕТИ ЯНТАРЬ&quot;&quot;</td><td>3903007130</td><td>2.9783e7</td><td>&quot;[ОКПД2 43.21] Работы электромо…</td><td>&quot;Калининградская область&quot;</td><td>&quot;Калининград&quot;</td><td>2023-05-24</td><td>2023-05-31</td><td>2023-05-24</td><td>2023-06-26</td><td>&quot;ООО &quot;ОРИОН&quot;&quot;</td><td>3906177059</td><td>null</td><td>&quot;Допущен&quot;</td><td>0.00006</td><td>&quot;Торговая процедура&quot;</td><td>&quot;Запрос цен&quot;</td></tr><tr><td>1</td><td>&quot;МУП &quot;РЕСУРС&quot;&quot;</td><td>6614001840</td><td>151972.23</td><td>&quot;[ОКПД2 28.14] Арматура трубопр…</td><td>&quot;Свердловская область&quot;</td><td>&quot;Свердловская область&quot;</td><td>2023-05-30</td><td>2023-05-31</td><td>2023-05-30</td><td>2023-05-30</td><td>&quot;ООО &quot;САНТЕХКОМПЛЕКТ-ТАГИЛ&quot;&quot;</td><td>6623019699</td><td>&quot;Победитель&quot;</td><td>&quot;Допущен&quot;</td><td>0.0</td><td>&quot;Торговая процедура&quot;</td><td>&quot;Закупка у единственного постав…</td></tr></tbody></table></div>"
      ],
      "text/plain": [
       "shape: (2, 18)\n",
       "┌─────────┬────────────┬───────────┬───────────┬───┬───────────┬───────────┬───────────┬───────────┐\n",
       "│ Уровень ┆ Заказчик   ┆ ИНН       ┆ Стоимость ┆ … ┆ Статус    ┆ Снижение  ┆ Форма пуб ┆ Тип       │\n",
       "│ ---     ┆ ---        ┆ заказчика ┆ (руб.)    ┆   ┆ допуска   ┆ на        ┆ ликации   ┆ торгов    │\n",
       "│ i64     ┆ str        ┆ ---       ┆ Заказчик  ┆   ┆ ---       ┆ торгах,%  ┆ ---       ┆ ---       │\n",
       "│         ┆            ┆ i64       ┆ ---       ┆   ┆ str       ┆ ---       ┆ str       ┆ str       │\n",
       "│         ┆            ┆           ┆ f64       ┆   ┆           ┆ f64       ┆           ┆           │\n",
       "╞═════════╪════════════╪═══════════╪═══════════╪═══╪═══════════╪═══════════╪═══════════╪═══════════╡\n",
       "│ 1       ┆ АО         ┆ 390300713 ┆ 2.9783e7  ┆ … ┆ Допущен   ┆ 0.00006   ┆ Торговая  ┆ Запрос    │\n",
       "│         ┆ \"РОССЕТИ   ┆ 0         ┆           ┆   ┆           ┆           ┆ процедура ┆ цен       │\n",
       "│         ┆ ЯНТАРЬ\"    ┆           ┆           ┆   ┆           ┆           ┆           ┆           │\n",
       "│ 1       ┆ МУП        ┆ 661400184 ┆ 151972.23 ┆ … ┆ Допущен   ┆ 0.0       ┆ Торговая  ┆ Закупка у │\n",
       "│         ┆ \"РЕСУРС\"   ┆ 0         ┆           ┆   ┆           ┆           ┆ процедура ┆ единствен │\n",
       "│         ┆            ┆           ┆           ┆   ┆           ┆           ┆           ┆ ного      │\n",
       "│         ┆            ┆           ┆           ┆   ┆           ┆           ┆           ┆ постав…   │\n",
       "└─────────┴────────────┴───────────┴───────────┴───┴───────────┴───────────┴───────────┴───────────┘"
      ]
     },
     "execution_count": 363,
     "metadata": {},
     "output_type": "execute_result"
    }
   ],
   "source": [
    "data = data.drop([\"Есть победитель\", \"Num winner\"])\n",
    "data.head(2)"
   ]
  },
  {
   "cell_type": "markdown",
   "metadata": {},
   "source": [
    "Добавляем реестр недобросовестных поставщиков"
   ]
  },
  {
   "cell_type": "code",
   "execution_count": 365,
   "metadata": {},
   "outputs": [],
   "source": [
    "notrust = pl.read_json('notrust_list/res.json')"
   ]
  },
  {
   "cell_type": "code",
   "execution_count": 366,
   "metadata": {},
   "outputs": [],
   "source": [
    "notrust = notrust.rename({'suplier_name':'Поставщик', 'suplier_inn':'ИНН поставщика', 'no_trust_now':'РНП сейчас', 'no_trust_before':'РНП ранее'})\n",
    "notrust = notrust.with_columns(pl.col('ИНН поставщика').str.to_integer())"
   ]
  },
  {
   "cell_type": "code",
   "execution_count": 367,
   "metadata": {},
   "outputs": [],
   "source": [
    "data = data.join(other=notrust.select(['ИНН поставщика', 'РНП сейчас', 'РНП ранее']), on='ИНН поставщика', how='left')\n",
    "data = data.with_columns(pl.col('РНП сейчас').fill_null(0), pl.col('РНП ранее').fill_null(0))"
   ]
  },
  {
   "cell_type": "code",
   "execution_count": 370,
   "metadata": {},
   "outputs": [
    {
     "data": {
      "text/plain": [
       "(15, 20)"
      ]
     },
     "execution_count": 370,
     "metadata": {},
     "output_type": "execute_result"
    }
   ],
   "source": [
    "data.filter(pl.col('РНП ранее')==1).shape"
   ]
  },
  {
   "cell_type": "markdown",
   "metadata": {},
   "source": [
    "Записываем результат"
   ]
  },
  {
   "cell_type": "code",
   "execution_count": 371,
   "metadata": {},
   "outputs": [
    {
     "data": {
      "text/plain": [
       "<xlsxwriter.workbook.Workbook at 0x14bcdf5e0>"
      ]
     },
     "execution_count": 371,
     "metadata": {},
     "output_type": "execute_result"
    }
   ],
   "source": [
    "data.write_excel( dtype_formats={pl.Date: \"yyyy-mm-dd\"})"
   ]
  },
  {
   "cell_type": "code",
   "execution_count": 372,
   "metadata": {},
   "outputs": [
    {
     "data": {
      "text/plain": [
       "(32455, 20)"
      ]
     },
     "execution_count": 372,
     "metadata": {},
     "output_type": "execute_result"
    }
   ],
   "source": [
    "data.shape"
   ]
  }
 ],
 "metadata": {
  "kernelspec": {
   "display_name": "Python 3",
   "language": "python",
   "name": "python3"
  },
  "language_info": {
   "codemirror_mode": {
    "name": "ipython",
    "version": 3
   },
   "file_extension": ".py",
   "mimetype": "text/x-python",
   "name": "python",
   "nbconvert_exporter": "python",
   "pygments_lexer": "ipython3",
   "version": "3.10.7"
  }
 },
 "nbformat": 4,
 "nbformat_minor": 2
}
