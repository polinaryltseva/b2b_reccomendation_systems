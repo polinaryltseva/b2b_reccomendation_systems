{
 "cells": [
  {
   "cell_type": "code",
   "execution_count": 1,
   "metadata": {},
   "outputs": [],
   "source": [
    "import polars as pl"
   ]
  },
  {
   "cell_type": "code",
   "execution_count": 18,
   "metadata": {},
   "outputs": [],
   "source": [
    "data1 = pl.read_excel(source='data/data1.xlsx', engine=\"xlsx2csv\", sheet_name=\"Результаты поиска\")\n",
    "data2 = pl.read_excel(source='data/data2.xlsx', engine=\"xlsx2csv\", sheet_name=\"Результаты поиска\")\n",
    "data3 = pl.read_excel(source='data/data3.xlsx', engine=\"xlsx2csv\", sheet_name=\"Результаты поиска\")\n",
    "data4 = pl.read_excel(source='data/data4.xlsx', engine=\"xlsx2csv\", sheet_name=\"Результаты поиска\")\n",
    "data5 = pl.read_excel(source='data/data5.xlsx', engine=\"xlsx2csv\", sheet_name=\"Результаты поиска\")"
   ]
  },
  {
   "cell_type": "code",
   "execution_count": 19,
   "metadata": {},
   "outputs": [],
   "source": [
    "fdata1 = data1.filter(pl.col(\"ИНН поставщика\").is_not_null() & pl.col(\"Победитель\").is_not_null() & pl.col(\"ИНН заказчика\").is_not_null())\n",
    "fdata2 = data2.filter(pl.col(\"ИНН поставщика\").is_not_null() & pl.col(\"Победитель\").is_not_null() & pl.col(\"ИНН заказчика\").is_not_null())\n",
    "fdata3 = data3.filter(pl.col(\"ИНН поставщика\").is_not_null() & pl.col(\"Победитель\").is_not_null() & pl.col(\"ИНН заказчика\").is_not_null())\n",
    "fdata4 = data4.filter(pl.col(\"ИНН поставщика\").is_not_null() & pl.col(\"Победитель\").is_not_null() & pl.col(\"ИНН заказчика\").is_not_null())\n",
    "fdata5 = data5.filter(pl.col(\"ИНН поставщика\").is_not_null() & pl.col(\"Победитель\").is_not_null() & pl.col(\"ИНН заказчика\").is_not_null())"
   ]
  },
  {
   "cell_type": "code",
   "execution_count": 55,
   "metadata": {},
   "outputs": [
    {
     "data": {
      "text/plain": [
       "(16240, 18)"
      ]
     },
     "execution_count": 55,
     "metadata": {},
     "output_type": "execute_result"
    }
   ],
   "source": [
    "data = pl.concat([fdata1, fdata2, fdata3, fdata5])\n",
    "data = data.with_columns(pl.col(\"ИНН поставщика\").str.to_integer())\n",
    "data = pl.concat([data, fdata4])\n",
    "data.shape"
   ]
  },
  {
   "cell_type": "code",
   "execution_count": 59,
   "metadata": {},
   "outputs": [
    {
     "data": {
      "text/plain": [
       "(14765, 18)"
      ]
     },
     "execution_count": 59,
     "metadata": {},
     "output_type": "execute_result"
    }
   ],
   "source": [
    "data = data.filter((pl.col(\"Статус допуска\")!=pl.lit(\"Неизвестно\")) & pl.col(\"Снижение на торгах,%\").is_not_null())\n",
    "data.shape"
   ]
  }
 ],
 "metadata": {
  "kernelspec": {
   "display_name": "Python 3",
   "language": "python",
   "name": "python3"
  },
  "language_info": {
   "codemirror_mode": {
    "name": "ipython",
    "version": 3
   },
   "file_extension": ".py",
   "mimetype": "text/x-python",
   "name": "python",
   "nbconvert_exporter": "python",
   "pygments_lexer": "ipython3",
   "version": "3.10.7"
  }
 },
 "nbformat": 4,
 "nbformat_minor": 2
}
