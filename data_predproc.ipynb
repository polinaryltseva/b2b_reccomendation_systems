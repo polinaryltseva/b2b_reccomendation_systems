{
 "cells": [
  {
   "cell_type": "code",
   "execution_count": 1,
   "metadata": {},
   "outputs": [],
   "source": [
    "import polars as pl"
   ]
  },
  {
   "cell_type": "code",
   "execution_count": 9,
   "metadata": {},
   "outputs": [],
   "source": [
    "data1 = pl.read_excel(source='df/data_1.xlsx', sheet_name=\"Результаты поиска\")"
   ]
  },
  {
   "cell_type": "code",
   "execution_count": 10,
   "metadata": {},
   "outputs": [
    {
     "data": {
      "text/html": [
       "<div><style>\n",
       ".dataframe > thead > tr,\n",
       ".dataframe > tbody > tr {\n",
       "  text-align: right;\n",
       "  white-space: pre-wrap;\n",
       "}\n",
       "</style>\n",
       "<small>shape: (1, 31)</small><table border=\"1\" class=\"dataframe\"><thead><tr><th>Уровень</th><th>Заказчик</th><th>ИНН заказчика</th><th>Стоимость \r\n",
       "(руб.) Заказчик</th><th>Реестровый номер публикации</th><th>Идентификационный код закупки</th><th>Сфера деятельности</th><th>Наименование публикации</th><th>Регион поставки</th><th>Город поставки</th><th>Дата публикации</th><th>Дата \r\n",
       "окончания приема заявок / Дата планового окончания исполнения контракта / Плановая дата публикации лота по ППГ</th><th>Дата начала подачи заявок/Дата начала исполнения контракта / Дата публикации ППГ</th><th>Дата  окончания проведения торгов</th><th>Поставщик</th><th>ИНН поставщика</th><th>Победитель</th><th>Статус допуска</th><th>Стоимость\r\n",
       "(руб.) Поставщик</th><th>Снижение на торгах,%</th><th>Форма публикации</th><th>Тип торгов</th><th>Торговая площадка</th><th>Электронные торги</th><th>Обеспечение заявки (руб.)</th><th>Обеспечение заявки, %</th><th>Обеспечение контракта (руб.)</th><th>Обеспечение контракта, %</th><th>Банковское \\ казначейское сопровождение</th><th>Источник финансирования</th><th>Ссылка на источник</th></tr><tr><td>i64</td><td>str</td><td>i64</td><td>f64</td><td>str</td><td>null</td><td>str</td><td>str</td><td>str</td><td>str</td><td>datetime[ms]</td><td>datetime[ms]</td><td>datetime[ms]</td><td>datetime[ms]</td><td>str</td><td>i64</td><td>null</td><td>null</td><td>f64</td><td>null</td><td>str</td><td>str</td><td>str</td><td>str</td><td>f64</td><td>null</td><td>null</td><td>null</td><td>null</td><td>str</td><td>str</td></tr></thead><tbody><tr><td>1</td><td>&quot;АО &quot;СОЦСФЕРА&quot;&quot;</td><td>5528022883</td><td>1.14e6</td><td>&quot;SBR003-200007203100001&quot;</td><td>null</td><td>&quot;Неизвестно&quot;</td><td>&quot;Транспортные услуги&quot;</td><td>&quot;Омская область&quot;</td><td>&quot;Омская область&quot;</td><td>2020-01-13 09:23:00</td><td>2020-01-31 23:00:00</td><td>2020-01-14 00:00:00</td><td>2020-02-07 08:00:00</td><td>&quot;&quot;</td><td>null</td><td>null</td><td>null</td><td>null</td><td>null</td><td>&quot;Торговая процедура&quot;</td><td>&quot;Запрос предложений в электронн…</td><td>&quot;Сбербанк-АСТ&quot;</td><td>&quot;Неизвестно&quot;</td><td>0.0</td><td>null</td><td>null</td><td>null</td><td>null</td><td>&quot;Неизвестно&quot;</td><td>&quot;СБЕРБАНК-АСТ 223&quot;</td></tr></tbody></table></div>"
      ],
      "text/plain": [
       "shape: (1, 31)\n",
       "┌─────────┬────────────┬───────────┬───────────┬───┬───────────┬───────────┬───────────┬───────────┐\n",
       "│ Уровень ┆ Заказчик   ┆ ИНН       ┆ Стоимость ┆ … ┆ Обеспечен ┆ Банковско ┆ Источник  ┆ Ссылка на │\n",
       "│ ---     ┆ ---        ┆ заказчика ┆ \n",
       "         ┆   ┆ ие контра ┆ е \\ казна ┆ финансиро ┆ источник  │\n",
       "│ i64     ┆ str        ┆ ---       ┆ (руб.)    ┆   ┆ кта, %    ┆ чейское   ┆ вания     ┆ ---       │\n",
       "│         ┆            ┆ i64       ┆ Заказчик  ┆   ┆ ---       ┆ сопр…     ┆ ---       ┆ str       │\n",
       "│         ┆            ┆           ┆ ---       ┆   ┆ null      ┆ ---       ┆ str       ┆           │\n",
       "│         ┆            ┆           ┆ f64       ┆   ┆           ┆ null      ┆           ┆           │\n",
       "╞═════════╪════════════╪═══════════╪═══════════╪═══╪═══════════╪═══════════╪═══════════╪═══════════╡\n",
       "│ 1       ┆ АО         ┆ 552802288 ┆ 1.14e6    ┆ … ┆ null      ┆ null      ┆ Неизвестн ┆ СБЕРБАНК- │\n",
       "│         ┆ \"СОЦСФЕРА\" ┆ 3         ┆           ┆   ┆           ┆           ┆ о         ┆ АСТ 223   │\n",
       "└─────────┴────────────┴───────────┴───────────┴───┴───────────┴───────────┴───────────┴───────────┘"
      ]
     },
     "execution_count": 10,
     "metadata": {},
     "output_type": "execute_result"
    }
   ],
   "source": [
    "data1.head(1)"
   ]
  },
  {
   "cell_type": "code",
   "execution_count": 12,
   "metadata": {},
   "outputs": [
    {
     "data": {
      "text/plain": [
       "(763198, 31)"
      ]
     },
     "execution_count": 12,
     "metadata": {},
     "output_type": "execute_result"
    }
   ],
   "source": [
    "data6.shape"
   ]
  },
  {
   "cell_type": "code",
   "execution_count": 6,
   "metadata": {},
   "outputs": [],
   "source": [
    "data2 = pl.read_excel(source='df/data_2.xlsx', sheet_name=\"Результаты поиска\")\n",
    "data3 = pl.read_excel(source='df/data_3.xlsx', sheet_name=\"Результаты поиска\")\n",
    "data4 = pl.read_excel(source='df/data_4.xlsx', sheet_name=\"Результаты поиска\")\n",
    "data5 = pl.read_excel(source='df/data_5.xlsx', sheet_name=\"Результаты поиска\")"
   ]
  },
  {
   "cell_type": "code",
   "execution_count": 11,
   "metadata": {},
   "outputs": [],
   "source": [
    "data6 = pl.read_excel(source='df/data_6.xlsx', sheet_name=\"Результаты поиска\")\n",
    "data7 = pl.read_excel(source='df/data_7.xlsx', sheet_name=\"Результаты поиска\")\n",
    "data8 = pl.read_excel(source='df/data_8.xlsx', sheet_name=\"Результаты поиска\")\n",
    "data9 = pl.read_excel(source='df/data_9.xlsx', sheet_name=\"Результаты поиска\")\n",
    "data10 = pl.read_excel(source='df/data_10.xlsx', sheet_name=\"Результаты поиска\")\n",
    "data11 = pl.read_excel(source='df/data_11.xlsx', sheet_name=\"Результаты поиска\")\n",
    "data12 = pl.read_excel(source='df/data_12.xlsx', sheet_name=\"Результаты поиска\")\n",
    "data13 = pl.read_excel(source='df/data_13.xlsx', sheet_name=\"Результаты поиска\")\n",
    "data14 = pl.read_excel(source='df/data_14.xlsx', sheet_name=\"Результаты поиска\")\n",
    "data15 = pl.read_excel(source='df/data_15.xlsx', sheet_name=\"Результаты поиска\")"
   ]
  },
  {
   "cell_type": "code",
   "execution_count": 6,
   "metadata": {},
   "outputs": [
    {
     "data": {
      "text/html": [
       "<div><style>\n",
       ".dataframe > thead > tr,\n",
       ".dataframe > tbody > tr {\n",
       "  text-align: right;\n",
       "  white-space: pre-wrap;\n",
       "}\n",
       "</style>\n",
       "<small>shape: (1, 31)</small><table border=\"1\" class=\"dataframe\"><thead><tr><th>Уровень</th><th>Заказчик</th><th>ИНН заказчика</th><th>Стоимость \r\n",
       "(руб.) Заказчик</th><th>Реестровый номер публикации</th><th>Идентификационный код закупки</th><th>Сфера деятельности</th><th>Наименование публикации</th><th>Регион поставки</th><th>Город поставки</th><th>Дата публикации</th><th>Дата \r\n",
       "окончания приема заявок / Дата планового окончания исполнения контракта / Плановая дата публикации лота по ППГ</th><th>Дата начала подачи заявок/Дата начала исполнения контракта / Дата публикации ППГ</th><th>Дата  окончания проведения торгов</th><th>Поставщик</th><th>ИНН поставщика</th><th>Победитель</th><th>Статус допуска</th><th>Стоимость\r\n",
       "(руб.) Поставщик</th><th>Снижение на торгах,%</th><th>Форма публикации</th><th>Тип торгов</th><th>Торговая площадка</th><th>Электронные торги</th><th>Обеспечение заявки (руб.)</th><th>Обеспечение заявки, %</th><th>Обеспечение контракта (руб.)</th><th>Обеспечение контракта, %</th><th>Банковское \\ казначейское сопровождение</th><th>Источник финансирования</th><th>Ссылка на источник</th></tr><tr><td>i64</td><td>str</td><td>i64</td><td>f64</td><td>str</td><td>null</td><td>str</td><td>str</td><td>str</td><td>str</td><td>datetime[ms]</td><td>datetime[ms]</td><td>datetime[ms]</td><td>datetime[ms]</td><td>str</td><td>i64</td><td>null</td><td>null</td><td>f64</td><td>null</td><td>str</td><td>str</td><td>str</td><td>str</td><td>f64</td><td>null</td><td>null</td><td>null</td><td>null</td><td>str</td><td>str</td></tr></thead><tbody><tr><td>1</td><td>&quot;АО &quot;СОЦСФЕРА&quot;&quot;</td><td>5528022883</td><td>1.14e6</td><td>&quot;SBR003-200007203100001&quot;</td><td>null</td><td>&quot;Неизвестно&quot;</td><td>&quot;Транспортные услуги&quot;</td><td>&quot;Омская область&quot;</td><td>&quot;Омская область&quot;</td><td>2020-01-13 09:23:00</td><td>2020-01-31 23:00:00</td><td>2020-01-14 00:00:00</td><td>2020-02-07 08:00:00</td><td>&quot;&quot;</td><td>null</td><td>null</td><td>null</td><td>null</td><td>null</td><td>&quot;Торговая процедура&quot;</td><td>&quot;Запрос предложений в электронн…</td><td>&quot;Сбербанк-АСТ&quot;</td><td>&quot;Неизвестно&quot;</td><td>0.0</td><td>null</td><td>null</td><td>null</td><td>null</td><td>&quot;Неизвестно&quot;</td><td>&quot;СБЕРБАНК-АСТ 223&quot;</td></tr></tbody></table></div>"
      ],
      "text/plain": [
       "shape: (1, 31)\n",
       "┌─────────┬────────────┬───────────┬───────────┬───┬───────────┬───────────┬───────────┬───────────┐\n",
       "│ Уровень ┆ Заказчик   ┆ ИНН       ┆ Стоимость ┆ … ┆ Обеспечен ┆ Банковско ┆ Источник  ┆ Ссылка на │\n",
       "│ ---     ┆ ---        ┆ заказчика ┆ \n",
       "         ┆   ┆ ие контра ┆ е \\ казна ┆ финансиро ┆ источник  │\n",
       "│ i64     ┆ str        ┆ ---       ┆ (руб.)    ┆   ┆ кта, %    ┆ чейское   ┆ вания     ┆ ---       │\n",
       "│         ┆            ┆ i64       ┆ Заказчик  ┆   ┆ ---       ┆ сопр…     ┆ ---       ┆ str       │\n",
       "│         ┆            ┆           ┆ ---       ┆   ┆ null      ┆ ---       ┆ str       ┆           │\n",
       "│         ┆            ┆           ┆ f64       ┆   ┆           ┆ null      ┆           ┆           │\n",
       "╞═════════╪════════════╪═══════════╪═══════════╪═══╪═══════════╪═══════════╪═══════════╪═══════════╡\n",
       "│ 1       ┆ АО         ┆ 552802288 ┆ 1.14e6    ┆ … ┆ null      ┆ null      ┆ Неизвестн ┆ СБЕРБАНК- │\n",
       "│         ┆ \"СОЦСФЕРА\" ┆ 3         ┆           ┆   ┆           ┆           ┆ о         ┆ АСТ 223   │\n",
       "└─────────┴────────────┴───────────┴───────────┴───┴───────────┴───────────┴───────────┴───────────┘"
      ]
     },
     "execution_count": 6,
     "metadata": {},
     "output_type": "execute_result"
    }
   ],
   "source": [
    "data1.head(1)"
   ]
  },
  {
   "cell_type": "code",
   "execution_count": 21,
   "metadata": {},
   "outputs": [
    {
     "data": {
      "text/html": [
       "<div><style>\n",
       ".dataframe > thead > tr,\n",
       ".dataframe > tbody > tr {\n",
       "  text-align: right;\n",
       "  white-space: pre-wrap;\n",
       "}\n",
       "</style>\n",
       "<small>shape: (1, 1)</small><table border=\"1\" class=\"dataframe\"><thead><tr><th>ИНН поставщика</th></tr><tr><td>null</td></tr></thead><tbody><tr><td>null</td></tr></tbody></table></div>"
      ],
      "text/plain": [
       "shape: (1, 1)\n",
       "┌────────────────┐\n",
       "│ ИНН поставщика │\n",
       "│ ---            │\n",
       "│ null           │\n",
       "╞════════════════╡\n",
       "│ null           │\n",
       "└────────────────┘"
      ]
     },
     "execution_count": 21,
     "metadata": {},
     "output_type": "execute_result"
    }
   ],
   "source": [
    "data2.select(pl.col('ИНН поставщика').unique())"
   ]
  },
  {
   "cell_type": "code",
   "execution_count": 14,
   "metadata": {},
   "outputs": [
    {
     "ename": "SchemaError",
     "evalue": "type String is incompatible with expected type Null",
     "output_type": "error",
     "traceback": [
      "\u001b[0;31m---------------------------------------------------------------------------\u001b[0m",
      "\u001b[0;31mSchemaError\u001b[0m                               Traceback (most recent call last)",
      "\u001b[1;32m/Users/renatavaliullina/Desktop/rec b2b/data_predproc.ipynb Cell 7\u001b[0m line \u001b[0;36m1\n\u001b[0;32m----> <a href='vscode-notebook-cell:/Users/renatavaliullina/Desktop/rec%20b2b/data_predproc.ipynb#Y213sZmlsZQ%3D%3D?line=0'>1</a>\u001b[0m data \u001b[39m=\u001b[39m pl\u001b[39m.\u001b[39;49mconcat([data1, data2])\u001b[39m#, data3, data5, data6, data7, data8, data9, data10, data11, data12, data13, data14, data15])\u001b[39;00m\n",
      "File \u001b[0;32m/Library/Frameworks/Python.framework/Versions/3.10/lib/python3.10/site-packages/polars/functions/eager.py:182\u001b[0m, in \u001b[0;36mconcat\u001b[0;34m(items, how, rechunk, parallel)\u001b[0m\n\u001b[1;32m    180\u001b[0m \u001b[39mif\u001b[39;00m \u001b[39misinstance\u001b[39m(first, pl\u001b[39m.\u001b[39mDataFrame):\n\u001b[1;32m    181\u001b[0m     \u001b[39mif\u001b[39;00m how \u001b[39m==\u001b[39m \u001b[39m\"\u001b[39m\u001b[39mvertical\u001b[39m\u001b[39m\"\u001b[39m:\n\u001b[0;32m--> 182\u001b[0m         out \u001b[39m=\u001b[39m wrap_df(plr\u001b[39m.\u001b[39;49mconcat_df(elems))\n\u001b[1;32m    183\u001b[0m     \u001b[39melif\u001b[39;00m how \u001b[39m==\u001b[39m \u001b[39m\"\u001b[39m\u001b[39mvertical_relaxed\u001b[39m\u001b[39m\"\u001b[39m:\n\u001b[1;32m    184\u001b[0m         out \u001b[39m=\u001b[39m wrap_ldf(\n\u001b[1;32m    185\u001b[0m             plr\u001b[39m.\u001b[39mconcat_lf(\n\u001b[1;32m    186\u001b[0m                 [df\u001b[39m.\u001b[39mlazy() \u001b[39mfor\u001b[39;00m df \u001b[39min\u001b[39;00m elems],\n\u001b[0;32m   (...)\u001b[0m\n\u001b[1;32m    190\u001b[0m             )\n\u001b[1;32m    191\u001b[0m         )\u001b[39m.\u001b[39mcollect(no_optimization\u001b[39m=\u001b[39m\u001b[39mTrue\u001b[39;00m)\n",
      "\u001b[0;31mSchemaError\u001b[0m: type String is incompatible with expected type Null"
     ]
    }
   ],
   "source": [
    "data = pl.concat([data1, data2])#, data3, data5, data6, data7, data8, data9, data10, data11, data12, data13, data14, data15])"
   ]
  },
  {
   "cell_type": "markdown",
   "metadata": {},
   "source": [
    "Оставляем только те строки, где известен победитель и есть ИНН заказчика и поставщика."
   ]
  },
  {
   "cell_type": "code",
   "execution_count": 471,
   "metadata": {},
   "outputs": [],
   "source": [
    "fdata1 = data1.filter(pl.col(\"ИНН поставщика\").is_not_null() & pl.col(\"ИНН заказчика\").is_not_null())\n",
    "fdata2 = data2.filter(pl.col(\"ИНН поставщика\").is_not_null() & pl.col(\"ИНН заказчика\").is_not_null())\n",
    "fdata3 = data3.filter(pl.col(\"ИНН поставщика\").is_not_null() & pl.col(\"ИНН заказчика\").is_not_null())\n",
    "fdata4 = data4.filter(pl.col(\"ИНН поставщика\").is_not_null() & pl.col(\"ИНН заказчика\").is_not_null())\n",
    "fdata5 = data5.filter(pl.col(\"ИНН поставщика\").is_not_null() & pl.col(\"ИНН заказчика\").is_not_null())"
   ]
  },
  {
   "cell_type": "code",
   "execution_count": 476,
   "metadata": {},
   "outputs": [
    {
     "data": {
      "text/plain": [
       "(168453, 18)"
      ]
     },
     "execution_count": 476,
     "metadata": {},
     "output_type": "execute_result"
    }
   ],
   "source": [
    "data = pl.concat([fdata1, fdata2, fdata3, fdata5])\n",
    "data = data.with_columns(pl.col(\"ИНН поставщика\").str.to_integer())\n",
    "data = pl.concat([data, fdata4])\n",
    "data.shape"
   ]
  },
  {
   "cell_type": "markdown",
   "metadata": {},
   "source": [
    "Убираем дупликаты"
   ]
  },
  {
   "cell_type": "code",
   "execution_count": 477,
   "metadata": {},
   "outputs": [
    {
     "data": {
      "text/plain": [
       "(159192, 18)"
      ]
     },
     "execution_count": 477,
     "metadata": {},
     "output_type": "execute_result"
    }
   ],
   "source": [
    "data = data.unique(maintain_order=True)\n",
    "data.shape"
   ]
  },
  {
   "cell_type": "code",
   "execution_count": 478,
   "metadata": {},
   "outputs": [],
   "source": [
    "data = data.rename({'Дата \\nокончания приема заявок / Дата планового окончания исполнения контракта / Плановая дата публикации лота по ППГ':'Дата окончания приема заявок / Дата планового окончания исполнения контракта / Плановая дата публикации лота по ППГ',\n",
    "                    'Дата начала подачи заявок/Дата начала исполнения контракта / Дата публикации ППГ' : 'Дата начала подачи заявок / Дата начала исполнения контракта / Дата публикации ППГ',\n",
    "                    'Дата  окончания проведения торгов' : 'Дата окончания проведения торгов'})"
   ]
  },
  {
   "cell_type": "markdown",
   "metadata": {},
   "source": [
    "Оставляем только те строки, где известно снижение на торгах"
   ]
  },
  {
   "cell_type": "code",
   "execution_count": 479,
   "metadata": {},
   "outputs": [
    {
     "data": {
      "text/plain": [
       "(130616, 18)"
      ]
     },
     "execution_count": 479,
     "metadata": {},
     "output_type": "execute_result"
    }
   ],
   "source": [
    "data = data.filter(pl.col(\"Снижение на торгах,%\").is_not_null())\n",
    "data.shape"
   ]
  },
  {
   "cell_type": "markdown",
   "metadata": {},
   "source": [
    "Уберем нереалистичные значения в ставках в Снижение на торгах,% "
   ]
  },
  {
   "cell_type": "code",
   "execution_count": 480,
   "metadata": {},
   "outputs": [
    {
     "data": {
      "text/plain": [
       "(130254, 18)"
      ]
     },
     "execution_count": 480,
     "metadata": {},
     "output_type": "execute_result"
    }
   ],
   "source": [
    "data = data.filter((pl.col('Снижение на торгах,%')>=-100))\n",
    "data.shape"
   ]
  },
  {
   "cell_type": "markdown",
   "metadata": {},
   "source": [
    "Теперь работаем с датами"
   ]
  },
  {
   "cell_type": "code",
   "execution_count": 481,
   "metadata": {},
   "outputs": [],
   "source": [
    "ddata = data.with_columns(pl.col('Дата публикации').str.to_date(format=\"%m-%d-%y\", strict=False))\n",
    "ddata = ddata.with_columns(pl.col('Дата окончания приема заявок / Дата планового окончания исполнения контракта / Плановая дата публикации лота по ППГ').str.to_date(format=\"%m-%d-%y\", strict=False))\n",
    "ddata = ddata.with_columns(pl.col('Дата начала подачи заявок / Дата начала исполнения контракта / Дата публикации ППГ').str.to_date(format=\"%m-%d-%y\", strict=False))\n",
    "ddata = ddata.with_columns(pl.col('Дата окончания проведения торгов').str.to_date(format=\"%m-%d-%y\", strict=False))"
   ]
  },
  {
   "cell_type": "code",
   "execution_count": 482,
   "metadata": {},
   "outputs": [
    {
     "data": {
      "text/plain": [
       "(118302, 18)"
      ]
     },
     "execution_count": 482,
     "metadata": {},
     "output_type": "execute_result"
    }
   ],
   "source": [
    "data = ddata.filter(pl.col('Дата публикации').is_not_null() & \n",
    "                         pl.col('Дата окончания приема заявок / Дата планового окончания исполнения контракта / Плановая дата публикации лота по ППГ').is_not_null() & \n",
    "                         pl.col('Дата начала подачи заявок / Дата начала исполнения контракта / Дата публикации ППГ').is_not_null() & \n",
    "                         pl.col('Дата окончания проведения торгов').is_not_null())\n",
    "data.shape"
   ]
  },
  {
   "cell_type": "markdown",
   "metadata": {},
   "source": [
    "Отбираем тендеры, где известен победитель"
   ]
  },
  {
   "cell_type": "code",
   "execution_count": 483,
   "metadata": {},
   "outputs": [],
   "source": [
    "data = data.with_columns(pl.col('Стоимость \\n(руб.) Заказчик').fill_null(0),\n",
    "                         pl.col('Тип торгов').fill_null('n'))"
   ]
  },
  {
   "cell_type": "code",
   "execution_count": 484,
   "metadata": {},
   "outputs": [
    {
     "data": {
      "text/plain": [
       "(118302, 19)"
      ]
     },
     "execution_count": 484,
     "metadata": {},
     "output_type": "execute_result"
    }
   ],
   "source": [
    "data = data.with_columns(pl.when(pl.col('Победитель')==pl.lit('Победитель')).then(1).otherwise(0).alias('Есть победитель'))\n",
    "data.shape"
   ]
  },
  {
   "cell_type": "code",
   "execution_count": 485,
   "metadata": {},
   "outputs": [
    {
     "data": {
      "text/plain": [
       "(49825, 14)"
      ]
     },
     "execution_count": 485,
     "metadata": {},
     "output_type": "execute_result"
    }
   ],
   "source": [
    "data_group = data.group_by(['Уровень',\n",
    "                            'Заказчик',\n",
    "                            'ИНН заказчика',\n",
    "                            'Стоимость \\n(руб.) Заказчик',\n",
    "                            'Сфера деятельности',\n",
    "                            'Регион поставки',\n",
    "                            'Город поставки',\n",
    "                            'Дата публикации',\n",
    "                            'Дата окончания приема заявок / Дата планового окончания исполнения контракта / Плановая дата публикации лота по ППГ',\n",
    "                            'Дата начала подачи заявок / Дата начала исполнения контракта / Дата публикации ППГ',\n",
    "                            'Дата окончания проведения торгов',\n",
    "                            'Форма публикации',\n",
    "                            'Тип торгов']).agg(pl.col('Есть победитель').sum().alias('Num winner'))\n",
    "data_group.shape"
   ]
  },
  {
   "cell_type": "code",
   "execution_count": 486,
   "metadata": {},
   "outputs": [
    {
     "data": {
      "text/plain": [
       "(118302, 20)"
      ]
     },
     "execution_count": 486,
     "metadata": {},
     "output_type": "execute_result"
    }
   ],
   "source": [
    "data_new = data.join(data_group,\n",
    "                     how='left',\n",
    "                     on=['Уровень',\n",
    "                        'Заказчик',\n",
    "                        'ИНН заказчика',\n",
    "                        'Стоимость \\n(руб.) Заказчик',\n",
    "                        'Сфера деятельности',\n",
    "                        'Регион поставки',\n",
    "                        'Город поставки',\n",
    "                        'Дата публикации',\n",
    "                        'Дата окончания приема заявок / Дата планового окончания исполнения контракта / Плановая дата публикации лота по ППГ',\n",
    "                        'Дата начала подачи заявок / Дата начала исполнения контракта / Дата публикации ППГ',\n",
    "                        'Дата окончания проведения торгов',\n",
    "                        'Форма публикации',\n",
    "                        'Тип торгов'])\n",
    "data_new.shape"
   ]
  },
  {
   "cell_type": "code",
   "execution_count": 487,
   "metadata": {},
   "outputs": [
    {
     "data": {
      "text/plain": [
       "(17919, 20)"
      ]
     },
     "execution_count": 487,
     "metadata": {},
     "output_type": "execute_result"
    }
   ],
   "source": [
    "data = data_new.filter(pl.col('Num winner')>=1)\n",
    "data.shape"
   ]
  },
  {
   "cell_type": "code",
   "execution_count": 488,
   "metadata": {},
   "outputs": [],
   "source": [
    "data = data.drop([\"Есть победитель\", \"Num winner\"])"
   ]
  },
  {
   "cell_type": "markdown",
   "metadata": {},
   "source": [
    "Добавляем реестр недобросовестных поставщиков"
   ]
  },
  {
   "cell_type": "code",
   "execution_count": 489,
   "metadata": {},
   "outputs": [],
   "source": [
    "notrust = pl.read_json('notrust_list/res.json')"
   ]
  },
  {
   "cell_type": "code",
   "execution_count": 490,
   "metadata": {},
   "outputs": [],
   "source": [
    "notrust = notrust.rename({'suplier_name':'Поставщик', 'suplier_inn':'ИНН поставщика', 'no_trust_now':'РНП сейчас', 'no_trust_before':'РНП ранее'})\n",
    "notrust = notrust.with_columns(pl.col('ИНН поставщика').str.to_integer())"
   ]
  },
  {
   "cell_type": "code",
   "execution_count": 491,
   "metadata": {},
   "outputs": [],
   "source": [
    "data = data.join(other=notrust.select(['ИНН поставщика', 'РНП сейчас', 'РНП ранее']), on='ИНН поставщика', how='left')\n",
    "data = data.with_columns(pl.col('РНП сейчас').fill_null(0), pl.col('РНП ранее').fill_null(0))"
   ]
  },
  {
   "cell_type": "code",
   "execution_count": 492,
   "metadata": {},
   "outputs": [
    {
     "data": {
      "text/plain": [
       "(15, 20)"
      ]
     },
     "execution_count": 492,
     "metadata": {},
     "output_type": "execute_result"
    }
   ],
   "source": [
    "data.filter(pl.col('РНП ранее')==1).shape"
   ]
  },
  {
   "cell_type": "markdown",
   "metadata": {},
   "source": [
    "Записываем результат"
   ]
  },
  {
   "cell_type": "code",
   "execution_count": 493,
   "metadata": {},
   "outputs": [
    {
     "data": {
      "text/plain": [
       "<xlsxwriter.workbook.Workbook at 0x4471cba00>"
      ]
     },
     "execution_count": 493,
     "metadata": {},
     "output_type": "execute_result"
    }
   ],
   "source": [
    "data.write_excel( dtype_formats={pl.Date: \"yyyy-mm-dd\"})"
   ]
  },
  {
   "cell_type": "code",
   "execution_count": 494,
   "metadata": {},
   "outputs": [
    {
     "data": {
      "text/plain": [
       "(17924, 20)"
      ]
     },
     "execution_count": 494,
     "metadata": {},
     "output_type": "execute_result"
    }
   ],
   "source": [
    "data.shape"
   ]
  },
  {
   "cell_type": "markdown",
   "metadata": {},
   "source": [
    "-------------"
   ]
  },
  {
   "cell_type": "code",
   "execution_count": 495,
   "metadata": {},
   "outputs": [
    {
     "ename": "ComputeError",
     "evalue": "could not parse `1934/ОКЭ-ДЖВ/22` as dtype `i64` at column 'Реестровый номер публикации' (column number 5)\n\nThe current offset in the file is 341113188 bytes.\n\nYou might want to try:\n- increasing `infer_schema_length` (e.g. `infer_schema_length=10000`),\n- specifying correct dtype with the `dtypes` argument\n- setting `ignore_errors` to `True`,\n- adding `1934/ОКЭ-ДЖВ/22` to the `null_values` list.\n\nOriginal error: ```remaining bytes non-empty```",
     "output_type": "error",
     "traceback": [
      "\u001b[0;31m---------------------------------------------------------------------------\u001b[0m",
      "\u001b[0;31mComputeError\u001b[0m                              Traceback (most recent call last)",
      "\u001b[1;32m/Users/renatavaliullina/Desktop/rec b2b/data_predproc.ipynb Cell 32\u001b[0m line \u001b[0;36m1\n\u001b[0;32m----> <a href='vscode-notebook-cell:/Users/renatavaliullina/Desktop/rec%20b2b/data_predproc.ipynb#Y202sZmlsZQ%3D%3D?line=0'>1</a>\u001b[0m data2022 \u001b[39m=\u001b[39m pl\u001b[39m.\u001b[39;49mread_excel(source\u001b[39m=\u001b[39;49m\u001b[39m'\u001b[39;49m\u001b[39mdata_2022.xlsx\u001b[39;49m\u001b[39m'\u001b[39;49m, engine\u001b[39m=\u001b[39;49m\u001b[39m\"\u001b[39;49m\u001b[39mxlsx2csv\u001b[39;49m\u001b[39m\"\u001b[39;49m, sheet_name\u001b[39m=\u001b[39;49m\u001b[39m\"\u001b[39;49m\u001b[39mРезультаты поиска\u001b[39;49m\u001b[39m\"\u001b[39;49m)\n",
      "File \u001b[0;32m/Library/Frameworks/Python.framework/Versions/3.10/lib/python3.10/site-packages/polars/_utils/deprecation.py:91\u001b[0m, in \u001b[0;36mdeprecate_renamed_parameter.<locals>.decorate.<locals>.wrapper\u001b[0;34m(*args, **kwargs)\u001b[0m\n\u001b[1;32m     86\u001b[0m \u001b[39m@wraps\u001b[39m(function)\n\u001b[1;32m     87\u001b[0m \u001b[39mdef\u001b[39;00m \u001b[39mwrapper\u001b[39m(\u001b[39m*\u001b[39margs: P\u001b[39m.\u001b[39margs, \u001b[39m*\u001b[39m\u001b[39m*\u001b[39mkwargs: P\u001b[39m.\u001b[39mkwargs) \u001b[39m-\u001b[39m\u001b[39m>\u001b[39m T:\n\u001b[1;32m     88\u001b[0m     _rename_keyword_argument(\n\u001b[1;32m     89\u001b[0m         old_name, new_name, kwargs, function\u001b[39m.\u001b[39m\u001b[39m__qualname__\u001b[39m, version\n\u001b[1;32m     90\u001b[0m     )\n\u001b[0;32m---> 91\u001b[0m     \u001b[39mreturn\u001b[39;00m function(\u001b[39m*\u001b[39;49margs, \u001b[39m*\u001b[39;49m\u001b[39m*\u001b[39;49mkwargs)\n",
      "File \u001b[0;32m/Library/Frameworks/Python.framework/Versions/3.10/lib/python3.10/site-packages/polars/_utils/deprecation.py:91\u001b[0m, in \u001b[0;36mdeprecate_renamed_parameter.<locals>.decorate.<locals>.wrapper\u001b[0;34m(*args, **kwargs)\u001b[0m\n\u001b[1;32m     86\u001b[0m \u001b[39m@wraps\u001b[39m(function)\n\u001b[1;32m     87\u001b[0m \u001b[39mdef\u001b[39;00m \u001b[39mwrapper\u001b[39m(\u001b[39m*\u001b[39margs: P\u001b[39m.\u001b[39margs, \u001b[39m*\u001b[39m\u001b[39m*\u001b[39mkwargs: P\u001b[39m.\u001b[39mkwargs) \u001b[39m-\u001b[39m\u001b[39m>\u001b[39m T:\n\u001b[1;32m     88\u001b[0m     _rename_keyword_argument(\n\u001b[1;32m     89\u001b[0m         old_name, new_name, kwargs, function\u001b[39m.\u001b[39m\u001b[39m__qualname__\u001b[39m, version\n\u001b[1;32m     90\u001b[0m     )\n\u001b[0;32m---> 91\u001b[0m     \u001b[39mreturn\u001b[39;00m function(\u001b[39m*\u001b[39;49margs, \u001b[39m*\u001b[39;49m\u001b[39m*\u001b[39;49mkwargs)\n",
      "File \u001b[0;32m/Library/Frameworks/Python.framework/Versions/3.10/lib/python3.10/site-packages/polars/io/spreadsheet/functions.py:289\u001b[0m, in \u001b[0;36mread_excel\u001b[0;34m(source, sheet_id, sheet_name, engine, engine_options, read_options, has_header, columns, schema_overrides, infer_schema_length, raise_if_empty)\u001b[0m\n\u001b[1;32m    148\u001b[0m \u001b[39m@deprecate_renamed_parameter\u001b[39m(\u001b[39m\"\u001b[39m\u001b[39mxlsx2csv_options\u001b[39m\u001b[39m\"\u001b[39m, \u001b[39m\"\u001b[39m\u001b[39mengine_options\u001b[39m\u001b[39m\"\u001b[39m, version\u001b[39m=\u001b[39m\u001b[39m\"\u001b[39m\u001b[39m0.20.6\u001b[39m\u001b[39m\"\u001b[39m)\n\u001b[1;32m    149\u001b[0m \u001b[39m@deprecate_renamed_parameter\u001b[39m(\u001b[39m\"\u001b[39m\u001b[39mread_csv_options\u001b[39m\u001b[39m\"\u001b[39m, \u001b[39m\"\u001b[39m\u001b[39mread_options\u001b[39m\u001b[39m\"\u001b[39m, version\u001b[39m=\u001b[39m\u001b[39m\"\u001b[39m\u001b[39m0.20.7\u001b[39m\u001b[39m\"\u001b[39m)\n\u001b[1;32m    150\u001b[0m \u001b[39mdef\u001b[39;00m \u001b[39mread_excel\u001b[39m(\n\u001b[0;32m   (...)\u001b[0m\n\u001b[1;32m    162\u001b[0m     raise_if_empty: \u001b[39mbool\u001b[39m \u001b[39m=\u001b[39m \u001b[39mTrue\u001b[39;00m,\n\u001b[1;32m    163\u001b[0m ) \u001b[39m-\u001b[39m\u001b[39m>\u001b[39m pl\u001b[39m.\u001b[39mDataFrame \u001b[39m|\u001b[39m \u001b[39mdict\u001b[39m[\u001b[39mstr\u001b[39m, pl\u001b[39m.\u001b[39mDataFrame]:\n\u001b[1;32m    164\u001b[0m \u001b[39m    \u001b[39m\u001b[39m\"\"\"\u001b[39;00m\n\u001b[1;32m    165\u001b[0m \u001b[39m    Read Excel spreadsheet data into a DataFrame.\u001b[39;00m\n\u001b[1;32m    166\u001b[0m \n\u001b[0;32m   (...)\u001b[0m\n\u001b[1;32m    287\u001b[0m \u001b[39m    ... )  # doctest: +SKIP\u001b[39;00m\n\u001b[1;32m    288\u001b[0m \u001b[39m    \"\"\"\u001b[39;00m\n\u001b[0;32m--> 289\u001b[0m     \u001b[39mreturn\u001b[39;00m _read_spreadsheet(\n\u001b[1;32m    290\u001b[0m         sheet_id,\n\u001b[1;32m    291\u001b[0m         sheet_name,\n\u001b[1;32m    292\u001b[0m         source\u001b[39m=\u001b[39;49msource,\n\u001b[1;32m    293\u001b[0m         engine\u001b[39m=\u001b[39;49mengine,\n\u001b[1;32m    294\u001b[0m         engine_options\u001b[39m=\u001b[39;49mengine_options,\n\u001b[1;32m    295\u001b[0m         read_options\u001b[39m=\u001b[39;49mread_options,\n\u001b[1;32m    296\u001b[0m         schema_overrides\u001b[39m=\u001b[39;49mschema_overrides,\n\u001b[1;32m    297\u001b[0m         infer_schema_length\u001b[39m=\u001b[39;49minfer_schema_length,\n\u001b[1;32m    298\u001b[0m         raise_if_empty\u001b[39m=\u001b[39;49mraise_if_empty,\n\u001b[1;32m    299\u001b[0m         has_header\u001b[39m=\u001b[39;49mhas_header,\n\u001b[1;32m    300\u001b[0m         columns\u001b[39m=\u001b[39;49mcolumns,\n\u001b[1;32m    301\u001b[0m     )\n",
      "File \u001b[0;32m/Library/Frameworks/Python.framework/Versions/3.10/lib/python3.10/site-packages/polars/io/spreadsheet/functions.py:555\u001b[0m, in \u001b[0;36m_read_spreadsheet\u001b[0;34m(sheet_id, sheet_name, source, engine, engine_options, read_options, schema_overrides, infer_schema_length, columns, has_header, raise_if_empty)\u001b[0m\n\u001b[1;32m    552\u001b[0m \u001b[39mtry\u001b[39;00m:\n\u001b[1;32m    553\u001b[0m     \u001b[39m# parse data from the indicated sheet(s)\u001b[39;00m\n\u001b[1;32m    554\u001b[0m     sheet_names, return_multi \u001b[39m=\u001b[39m _get_sheet_names(sheet_id, sheet_name, worksheets)\n\u001b[0;32m--> 555\u001b[0m     parsed_sheets \u001b[39m=\u001b[39m {\n\u001b[1;32m    556\u001b[0m         name: reader_fn(\n\u001b[1;32m    557\u001b[0m             parser\u001b[39m=\u001b[39mparser,\n\u001b[1;32m    558\u001b[0m             sheet_name\u001b[39m=\u001b[39mname,\n\u001b[1;32m    559\u001b[0m             schema_overrides\u001b[39m=\u001b[39mschema_overrides,\n\u001b[1;32m    560\u001b[0m             read_options\u001b[39m=\u001b[39mread_options,\n\u001b[1;32m    561\u001b[0m             raise_if_empty\u001b[39m=\u001b[39mraise_if_empty,\n\u001b[1;32m    562\u001b[0m             columns\u001b[39m=\u001b[39mcolumns,\n\u001b[1;32m    563\u001b[0m         )\n\u001b[1;32m    564\u001b[0m         \u001b[39mfor\u001b[39;00m name \u001b[39min\u001b[39;00m sheet_names\n\u001b[1;32m    565\u001b[0m     }\n\u001b[1;32m    566\u001b[0m \u001b[39mfinally\u001b[39;00m:\n\u001b[1;32m    567\u001b[0m     \u001b[39mif\u001b[39;00m \u001b[39mhasattr\u001b[39m(parser, \u001b[39m\"\u001b[39m\u001b[39mclose\u001b[39m\u001b[39m\"\u001b[39m):\n",
      "File \u001b[0;32m/Library/Frameworks/Python.framework/Versions/3.10/lib/python3.10/site-packages/polars/io/spreadsheet/functions.py:556\u001b[0m, in \u001b[0;36m<dictcomp>\u001b[0;34m(.0)\u001b[0m\n\u001b[1;32m    552\u001b[0m \u001b[39mtry\u001b[39;00m:\n\u001b[1;32m    553\u001b[0m     \u001b[39m# parse data from the indicated sheet(s)\u001b[39;00m\n\u001b[1;32m    554\u001b[0m     sheet_names, return_multi \u001b[39m=\u001b[39m _get_sheet_names(sheet_id, sheet_name, worksheets)\n\u001b[1;32m    555\u001b[0m     parsed_sheets \u001b[39m=\u001b[39m {\n\u001b[0;32m--> 556\u001b[0m         name: reader_fn(\n\u001b[1;32m    557\u001b[0m             parser\u001b[39m=\u001b[39;49mparser,\n\u001b[1;32m    558\u001b[0m             sheet_name\u001b[39m=\u001b[39;49mname,\n\u001b[1;32m    559\u001b[0m             schema_overrides\u001b[39m=\u001b[39;49mschema_overrides,\n\u001b[1;32m    560\u001b[0m             read_options\u001b[39m=\u001b[39;49mread_options,\n\u001b[1;32m    561\u001b[0m             raise_if_empty\u001b[39m=\u001b[39;49mraise_if_empty,\n\u001b[1;32m    562\u001b[0m             columns\u001b[39m=\u001b[39;49mcolumns,\n\u001b[1;32m    563\u001b[0m         )\n\u001b[1;32m    564\u001b[0m         \u001b[39mfor\u001b[39;00m name \u001b[39min\u001b[39;00m sheet_names\n\u001b[1;32m    565\u001b[0m     }\n\u001b[1;32m    566\u001b[0m \u001b[39mfinally\u001b[39;00m:\n\u001b[1;32m    567\u001b[0m     \u001b[39mif\u001b[39;00m \u001b[39mhasattr\u001b[39m(parser, \u001b[39m\"\u001b[39m\u001b[39mclose\u001b[39m\u001b[39m\"\u001b[39m):\n",
      "File \u001b[0;32m/Library/Frameworks/Python.framework/Versions/3.10/lib/python3.10/site-packages/polars/io/spreadsheet/functions.py:1027\u001b[0m, in \u001b[0;36m_read_spreadsheet_xlsx2csv\u001b[0;34m(parser, sheet_name, read_options, schema_overrides, columns, raise_if_empty)\u001b[0m\n\u001b[1;32m   1024\u001b[0m             schema_overrides[col] \u001b[39m=\u001b[39m UInt8  \u001b[39m# type: ignore[index]\u001b[39;00m\n\u001b[1;32m   1025\u001b[0m             cast_to_boolean\u001b[39m.\u001b[39mappend(F\u001b[39m.\u001b[39mcol(col)\u001b[39m.\u001b[39mcast(Boolean))\n\u001b[0;32m-> 1027\u001b[0m df \u001b[39m=\u001b[39m _csv_buffer_to_frame(\n\u001b[1;32m   1028\u001b[0m     csv_buffer,\n\u001b[1;32m   1029\u001b[0m     separator\u001b[39m=\u001b[39;49m\u001b[39m\"\u001b[39;49m\u001b[39m,\u001b[39;49m\u001b[39m\"\u001b[39;49m,\n\u001b[1;32m   1030\u001b[0m     read_options\u001b[39m=\u001b[39;49mread_options,\n\u001b[1;32m   1031\u001b[0m     schema_overrides\u001b[39m=\u001b[39;49mschema_overrides,\n\u001b[1;32m   1032\u001b[0m     raise_if_empty\u001b[39m=\u001b[39;49mraise_if_empty,\n\u001b[1;32m   1033\u001b[0m )\n\u001b[1;32m   1034\u001b[0m \u001b[39mif\u001b[39;00m cast_to_boolean:\n\u001b[1;32m   1035\u001b[0m     df \u001b[39m=\u001b[39m df\u001b[39m.\u001b[39mwith_columns(\u001b[39m*\u001b[39mcast_to_boolean)\n",
      "File \u001b[0;32m/Library/Frameworks/Python.framework/Versions/3.10/lib/python3.10/site-packages/polars/io/spreadsheet/functions.py:779\u001b[0m, in \u001b[0;36m_csv_buffer_to_frame\u001b[0;34m(csv, separator, read_options, schema_overrides, raise_if_empty)\u001b[0m\n\u001b[1;32m    777\u001b[0m \u001b[39m# otherwise rewind the buffer and parse as csv\u001b[39;00m\n\u001b[1;32m    778\u001b[0m csv\u001b[39m.\u001b[39mseek(\u001b[39m0\u001b[39m)\n\u001b[0;32m--> 779\u001b[0m df \u001b[39m=\u001b[39m read_csv(\n\u001b[1;32m    780\u001b[0m     csv,\n\u001b[1;32m    781\u001b[0m     separator\u001b[39m=\u001b[39;49mseparator,\n\u001b[1;32m    782\u001b[0m     \u001b[39m*\u001b[39;49m\u001b[39m*\u001b[39;49mread_options,\n\u001b[1;32m    783\u001b[0m )\n\u001b[1;32m    784\u001b[0m \u001b[39mreturn\u001b[39;00m _drop_null_data(df, raise_if_empty\u001b[39m=\u001b[39mraise_if_empty)\n",
      "File \u001b[0;32m/Library/Frameworks/Python.framework/Versions/3.10/lib/python3.10/site-packages/polars/_utils/deprecation.py:91\u001b[0m, in \u001b[0;36mdeprecate_renamed_parameter.<locals>.decorate.<locals>.wrapper\u001b[0;34m(*args, **kwargs)\u001b[0m\n\u001b[1;32m     86\u001b[0m \u001b[39m@wraps\u001b[39m(function)\n\u001b[1;32m     87\u001b[0m \u001b[39mdef\u001b[39;00m \u001b[39mwrapper\u001b[39m(\u001b[39m*\u001b[39margs: P\u001b[39m.\u001b[39margs, \u001b[39m*\u001b[39m\u001b[39m*\u001b[39mkwargs: P\u001b[39m.\u001b[39mkwargs) \u001b[39m-\u001b[39m\u001b[39m>\u001b[39m T:\n\u001b[1;32m     88\u001b[0m     _rename_keyword_argument(\n\u001b[1;32m     89\u001b[0m         old_name, new_name, kwargs, function\u001b[39m.\u001b[39m\u001b[39m__qualname__\u001b[39m, version\n\u001b[1;32m     90\u001b[0m     )\n\u001b[0;32m---> 91\u001b[0m     \u001b[39mreturn\u001b[39;00m function(\u001b[39m*\u001b[39;49margs, \u001b[39m*\u001b[39;49m\u001b[39m*\u001b[39;49mkwargs)\n",
      "File \u001b[0;32m/Library/Frameworks/Python.framework/Versions/3.10/lib/python3.10/site-packages/polars/_utils/deprecation.py:91\u001b[0m, in \u001b[0;36mdeprecate_renamed_parameter.<locals>.decorate.<locals>.wrapper\u001b[0;34m(*args, **kwargs)\u001b[0m\n\u001b[1;32m     86\u001b[0m \u001b[39m@wraps\u001b[39m(function)\n\u001b[1;32m     87\u001b[0m \u001b[39mdef\u001b[39;00m \u001b[39mwrapper\u001b[39m(\u001b[39m*\u001b[39margs: P\u001b[39m.\u001b[39margs, \u001b[39m*\u001b[39m\u001b[39m*\u001b[39mkwargs: P\u001b[39m.\u001b[39mkwargs) \u001b[39m-\u001b[39m\u001b[39m>\u001b[39m T:\n\u001b[1;32m     88\u001b[0m     _rename_keyword_argument(\n\u001b[1;32m     89\u001b[0m         old_name, new_name, kwargs, function\u001b[39m.\u001b[39m\u001b[39m__qualname__\u001b[39m, version\n\u001b[1;32m     90\u001b[0m     )\n\u001b[0;32m---> 91\u001b[0m     \u001b[39mreturn\u001b[39;00m function(\u001b[39m*\u001b[39;49margs, \u001b[39m*\u001b[39;49m\u001b[39m*\u001b[39;49mkwargs)\n",
      "File \u001b[0;32m/Library/Frameworks/Python.framework/Versions/3.10/lib/python3.10/site-packages/polars/_utils/deprecation.py:91\u001b[0m, in \u001b[0;36mdeprecate_renamed_parameter.<locals>.decorate.<locals>.wrapper\u001b[0;34m(*args, **kwargs)\u001b[0m\n\u001b[1;32m     86\u001b[0m \u001b[39m@wraps\u001b[39m(function)\n\u001b[1;32m     87\u001b[0m \u001b[39mdef\u001b[39;00m \u001b[39mwrapper\u001b[39m(\u001b[39m*\u001b[39margs: P\u001b[39m.\u001b[39margs, \u001b[39m*\u001b[39m\u001b[39m*\u001b[39mkwargs: P\u001b[39m.\u001b[39mkwargs) \u001b[39m-\u001b[39m\u001b[39m>\u001b[39m T:\n\u001b[1;32m     88\u001b[0m     _rename_keyword_argument(\n\u001b[1;32m     89\u001b[0m         old_name, new_name, kwargs, function\u001b[39m.\u001b[39m\u001b[39m__qualname__\u001b[39m, version\n\u001b[1;32m     90\u001b[0m     )\n\u001b[0;32m---> 91\u001b[0m     \u001b[39mreturn\u001b[39;00m function(\u001b[39m*\u001b[39;49margs, \u001b[39m*\u001b[39;49m\u001b[39m*\u001b[39;49mkwargs)\n",
      "File \u001b[0;32m/Library/Frameworks/Python.framework/Versions/3.10/lib/python3.10/site-packages/polars/io/csv/functions.py:496\u001b[0m, in \u001b[0;36mread_csv\u001b[0;34m(source, has_header, columns, new_columns, separator, comment_prefix, quote_char, skip_rows, schema, schema_overrides, null_values, missing_utf8_is_empty_string, ignore_errors, try_parse_dates, n_threads, infer_schema, infer_schema_length, batch_size, n_rows, encoding, low_memory, rechunk, use_pyarrow, storage_options, skip_rows_after_header, row_index_name, row_index_offset, sample_size, eol_char, raise_if_empty, truncate_ragged_lines, decimal_comma, glob)\u001b[0m\n\u001b[1;32m    488\u001b[0m \u001b[39melse\u001b[39;00m:\n\u001b[1;32m    489\u001b[0m     \u001b[39mwith\u001b[39;00m prepare_file_arg(\n\u001b[1;32m    490\u001b[0m         source,\n\u001b[1;32m    491\u001b[0m         encoding\u001b[39m=\u001b[39mencoding,\n\u001b[0;32m   (...)\u001b[0m\n\u001b[1;32m    494\u001b[0m         storage_options\u001b[39m=\u001b[39mstorage_options,\n\u001b[1;32m    495\u001b[0m     ) \u001b[39mas\u001b[39;00m data:\n\u001b[0;32m--> 496\u001b[0m         df \u001b[39m=\u001b[39m _read_csv_impl(\n\u001b[1;32m    497\u001b[0m             data,\n\u001b[1;32m    498\u001b[0m             has_header\u001b[39m=\u001b[39;49mhas_header,\n\u001b[1;32m    499\u001b[0m             columns\u001b[39m=\u001b[39;49mcolumns \u001b[39mif\u001b[39;49;00m columns \u001b[39melse\u001b[39;49;00m projection,\n\u001b[1;32m    500\u001b[0m             separator\u001b[39m=\u001b[39;49mseparator,\n\u001b[1;32m    501\u001b[0m             comment_prefix\u001b[39m=\u001b[39;49mcomment_prefix,\n\u001b[1;32m    502\u001b[0m             quote_char\u001b[39m=\u001b[39;49mquote_char,\n\u001b[1;32m    503\u001b[0m             skip_rows\u001b[39m=\u001b[39;49mskip_rows,\n\u001b[1;32m    504\u001b[0m             schema_overrides\u001b[39m=\u001b[39;49mschema_overrides,\n\u001b[1;32m    505\u001b[0m             schema\u001b[39m=\u001b[39;49mschema,\n\u001b[1;32m    506\u001b[0m             null_values\u001b[39m=\u001b[39;49mnull_values,\n\u001b[1;32m    507\u001b[0m             missing_utf8_is_empty_string\u001b[39m=\u001b[39;49mmissing_utf8_is_empty_string,\n\u001b[1;32m    508\u001b[0m             ignore_errors\u001b[39m=\u001b[39;49mignore_errors,\n\u001b[1;32m    509\u001b[0m             try_parse_dates\u001b[39m=\u001b[39;49mtry_parse_dates,\n\u001b[1;32m    510\u001b[0m             n_threads\u001b[39m=\u001b[39;49mn_threads,\n\u001b[1;32m    511\u001b[0m             infer_schema_length\u001b[39m=\u001b[39;49minfer_schema_length,\n\u001b[1;32m    512\u001b[0m             batch_size\u001b[39m=\u001b[39;49mbatch_size,\n\u001b[1;32m    513\u001b[0m             n_rows\u001b[39m=\u001b[39;49mn_rows,\n\u001b[1;32m    514\u001b[0m             encoding\u001b[39m=\u001b[39;49mencoding \u001b[39mif\u001b[39;49;00m encoding \u001b[39m==\u001b[39;49m \u001b[39m\"\u001b[39;49m\u001b[39mutf8-lossy\u001b[39;49m\u001b[39m\"\u001b[39;49m \u001b[39melse\u001b[39;49;00m \u001b[39m\"\u001b[39;49m\u001b[39mutf8\u001b[39;49m\u001b[39m\"\u001b[39;49m,\n\u001b[1;32m    515\u001b[0m             low_memory\u001b[39m=\u001b[39;49mlow_memory,\n\u001b[1;32m    516\u001b[0m             rechunk\u001b[39m=\u001b[39;49mrechunk,\n\u001b[1;32m    517\u001b[0m             skip_rows_after_header\u001b[39m=\u001b[39;49mskip_rows_after_header,\n\u001b[1;32m    518\u001b[0m             row_index_name\u001b[39m=\u001b[39;49mrow_index_name,\n\u001b[1;32m    519\u001b[0m             row_index_offset\u001b[39m=\u001b[39;49mrow_index_offset,\n\u001b[1;32m    520\u001b[0m             sample_size\u001b[39m=\u001b[39;49msample_size,\n\u001b[1;32m    521\u001b[0m             eol_char\u001b[39m=\u001b[39;49meol_char,\n\u001b[1;32m    522\u001b[0m             raise_if_empty\u001b[39m=\u001b[39;49mraise_if_empty,\n\u001b[1;32m    523\u001b[0m             truncate_ragged_lines\u001b[39m=\u001b[39;49mtruncate_ragged_lines,\n\u001b[1;32m    524\u001b[0m             decimal_comma\u001b[39m=\u001b[39;49mdecimal_comma,\n\u001b[1;32m    525\u001b[0m             glob\u001b[39m=\u001b[39;49mglob,\n\u001b[1;32m    526\u001b[0m         )\n\u001b[1;32m    528\u001b[0m \u001b[39mif\u001b[39;00m new_columns:\n\u001b[1;32m    529\u001b[0m     \u001b[39mreturn\u001b[39;00m _update_columns(df, new_columns)\n",
      "File \u001b[0;32m/Library/Frameworks/Python.framework/Versions/3.10/lib/python3.10/site-packages/polars/io/csv/functions.py:642\u001b[0m, in \u001b[0;36m_read_csv_impl\u001b[0;34m(source, has_header, columns, separator, comment_prefix, quote_char, skip_rows, schema, schema_overrides, null_values, missing_utf8_is_empty_string, ignore_errors, try_parse_dates, n_threads, infer_schema_length, batch_size, n_rows, encoding, low_memory, rechunk, skip_rows_after_header, row_index_name, row_index_offset, sample_size, eol_char, raise_if_empty, truncate_ragged_lines, decimal_comma, glob)\u001b[0m\n\u001b[1;32m    638\u001b[0m         \u001b[39mraise\u001b[39;00m \u001b[39mValueError\u001b[39;00m(msg)\n\u001b[1;32m    640\u001b[0m projection, columns \u001b[39m=\u001b[39m parse_columns_arg(columns)\n\u001b[0;32m--> 642\u001b[0m pydf \u001b[39m=\u001b[39m PyDataFrame\u001b[39m.\u001b[39;49mread_csv(\n\u001b[1;32m    643\u001b[0m     source,\n\u001b[1;32m    644\u001b[0m     infer_schema_length,\n\u001b[1;32m    645\u001b[0m     batch_size,\n\u001b[1;32m    646\u001b[0m     has_header,\n\u001b[1;32m    647\u001b[0m     ignore_errors,\n\u001b[1;32m    648\u001b[0m     n_rows,\n\u001b[1;32m    649\u001b[0m     skip_rows,\n\u001b[1;32m    650\u001b[0m     projection,\n\u001b[1;32m    651\u001b[0m     separator,\n\u001b[1;32m    652\u001b[0m     rechunk,\n\u001b[1;32m    653\u001b[0m     columns,\n\u001b[1;32m    654\u001b[0m     encoding,\n\u001b[1;32m    655\u001b[0m     n_threads,\n\u001b[1;32m    656\u001b[0m     path,\n\u001b[1;32m    657\u001b[0m     dtype_list,\n\u001b[1;32m    658\u001b[0m     dtype_slice,\n\u001b[1;32m    659\u001b[0m     low_memory,\n\u001b[1;32m    660\u001b[0m     comment_prefix,\n\u001b[1;32m    661\u001b[0m     quote_char,\n\u001b[1;32m    662\u001b[0m     processed_null_values,\n\u001b[1;32m    663\u001b[0m     missing_utf8_is_empty_string,\n\u001b[1;32m    664\u001b[0m     try_parse_dates,\n\u001b[1;32m    665\u001b[0m     skip_rows_after_header,\n\u001b[1;32m    666\u001b[0m     parse_row_index_args(row_index_name, row_index_offset),\n\u001b[1;32m    667\u001b[0m     sample_size\u001b[39m=\u001b[39;49msample_size,\n\u001b[1;32m    668\u001b[0m     eol_char\u001b[39m=\u001b[39;49meol_char,\n\u001b[1;32m    669\u001b[0m     raise_if_empty\u001b[39m=\u001b[39;49mraise_if_empty,\n\u001b[1;32m    670\u001b[0m     truncate_ragged_lines\u001b[39m=\u001b[39;49mtruncate_ragged_lines,\n\u001b[1;32m    671\u001b[0m     decimal_comma\u001b[39m=\u001b[39;49mdecimal_comma,\n\u001b[1;32m    672\u001b[0m     schema\u001b[39m=\u001b[39;49mschema,\n\u001b[1;32m    673\u001b[0m )\n\u001b[1;32m    674\u001b[0m \u001b[39mreturn\u001b[39;00m wrap_df(pydf)\n",
      "\u001b[0;31mComputeError\u001b[0m: could not parse `1934/ОКЭ-ДЖВ/22` as dtype `i64` at column 'Реестровый номер публикации' (column number 5)\n\nThe current offset in the file is 341113188 bytes.\n\nYou might want to try:\n- increasing `infer_schema_length` (e.g. `infer_schema_length=10000`),\n- specifying correct dtype with the `dtypes` argument\n- setting `ignore_errors` to `True`,\n- adding `1934/ОКЭ-ДЖВ/22` to the `null_values` list.\n\nOriginal error: ```remaining bytes non-empty```"
     ]
    }
   ],
   "source": [
    "data2022 = pl.read_excel(source='data_2022.xlsx', engine=\"xlsx2csv\", sheet_name=\"Результаты поиска\")"
   ]
  },
  {
   "cell_type": "code",
   "execution_count": null,
   "metadata": {},
   "outputs": [],
   "source": [
    "data2022.shape"
   ]
  }
 ],
 "metadata": {
  "kernelspec": {
   "display_name": "Python 3",
   "language": "python",
   "name": "python3"
  },
  "language_info": {
   "codemirror_mode": {
    "name": "ipython",
    "version": 3
   },
   "file_extension": ".py",
   "mimetype": "text/x-python",
   "name": "python",
   "nbconvert_exporter": "python",
   "pygments_lexer": "ipython3",
   "version": "3.10.7"
  }
 },
 "nbformat": 4,
 "nbformat_minor": 2
}
