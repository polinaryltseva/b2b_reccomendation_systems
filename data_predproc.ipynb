{
 "cells": [
  {
   "cell_type": "code",
   "execution_count": 1,
   "metadata": {},
   "outputs": [],
   "source": [
    "import polars as pl"
   ]
  },
  {
   "cell_type": "code",
   "execution_count": 18,
   "metadata": {},
   "outputs": [],
   "source": [
    "data1 = pl.read_excel(source='data/data1.xlsx', engine=\"xlsx2csv\", sheet_name=\"Результаты поиска\")\n",
    "data2 = pl.read_excel(source='data/data2.xlsx', engine=\"xlsx2csv\", sheet_name=\"Результаты поиска\")\n",
    "data3 = pl.read_excel(source='data/data3.xlsx', engine=\"xlsx2csv\", sheet_name=\"Результаты поиска\")\n",
    "data4 = pl.read_excel(source='data/data4.xlsx', engine=\"xlsx2csv\", sheet_name=\"Результаты поиска\")\n",
    "data5 = pl.read_excel(source='data/data5.xlsx', engine=\"xlsx2csv\", sheet_name=\"Результаты поиска\")"
   ]
  },
  {
   "cell_type": "markdown",
   "metadata": {},
   "source": [
    "Оставляем только те строки, где известен победитель и есть ИНН заказчика и поставщика."
   ]
  },
  {
   "cell_type": "code",
   "execution_count": 19,
   "metadata": {},
   "outputs": [],
   "source": [
    "fdata1 = data1.filter(pl.col(\"ИНН поставщика\").is_not_null() & pl.col(\"Победитель\").is_not_null() & pl.col(\"ИНН заказчика\").is_not_null())\n",
    "fdata2 = data2.filter(pl.col(\"ИНН поставщика\").is_not_null() & pl.col(\"Победитель\").is_not_null() & pl.col(\"ИНН заказчика\").is_not_null())\n",
    "fdata3 = data3.filter(pl.col(\"ИНН поставщика\").is_not_null() & pl.col(\"Победитель\").is_not_null() & pl.col(\"ИНН заказчика\").is_not_null())\n",
    "fdata4 = data4.filter(pl.col(\"ИНН поставщика\").is_not_null() & pl.col(\"Победитель\").is_not_null() & pl.col(\"ИНН заказчика\").is_not_null())\n",
    "fdata5 = data5.filter(pl.col(\"ИНН поставщика\").is_not_null() & pl.col(\"Победитель\").is_not_null() & pl.col(\"ИНН заказчика\").is_not_null())"
   ]
  },
  {
   "cell_type": "code",
   "execution_count": 146,
   "metadata": {},
   "outputs": [
    {
     "data": {
      "text/plain": [
       "(16240, 18)"
      ]
     },
     "execution_count": 146,
     "metadata": {},
     "output_type": "execute_result"
    }
   ],
   "source": [
    "data = pl.concat([fdata1, fdata2, fdata3, fdata5])\n",
    "data = data.with_columns(pl.col(\"ИНН поставщика\").str.to_integer())\n",
    "data = pl.concat([data, fdata4])\n",
    "data.shape"
   ]
  },
  {
   "cell_type": "code",
   "execution_count": 147,
   "metadata": {},
   "outputs": [],
   "source": [
    "data = data.rename({'Дата \\nокончания приема заявок / Дата планового окончания исполнения контракта / Плановая дата публикации лота по ППГ':'Дата окончания приема заявок / Дата планового окончания исполнения контракта / Плановая дата публикации лота по ППГ',\n",
    "                    'Дата начала подачи заявок/Дата начала исполнения контракта / Дата публикации ППГ' : 'Дата начала подачи заявок / Дата начала исполнения контракта / Дата публикации ППГ',\n",
    "                    'Дата  окончания проведения торгов' : 'Дата окончания проведения торгов'})"
   ]
  },
  {
   "cell_type": "markdown",
   "metadata": {},
   "source": [
    "Оставляем только те строки, где известно снижение на торгах и статус допуска допущен"
   ]
  },
  {
   "cell_type": "code",
   "execution_count": 148,
   "metadata": {},
   "outputs": [
    {
     "data": {
      "text/plain": [
       "(14765, 18)"
      ]
     },
     "execution_count": 148,
     "metadata": {},
     "output_type": "execute_result"
    }
   ],
   "source": [
    "data = data.filter((pl.col(\"Статус допуска\")==pl.lit(\"Допущен\")) & pl.col(\"Снижение на торгах,%\").is_not_null())\n",
    "data.shape"
   ]
  },
  {
   "cell_type": "markdown",
   "metadata": {},
   "source": [
    "Уберем нереалистичные значения в ставках в Снижение на торгах,% "
   ]
  },
  {
   "cell_type": "code",
   "execution_count": 151,
   "metadata": {},
   "outputs": [
    {
     "data": {
      "text/plain": [
       "(14739, 18)"
      ]
     },
     "execution_count": 151,
     "metadata": {},
     "output_type": "execute_result"
    }
   ],
   "source": [
    "data = data.filter(pl.col('Снижение на торгах,%')>=-100)\n",
    "data.shape"
   ]
  },
  {
   "cell_type": "markdown",
   "metadata": {},
   "source": [
    "Теперь работаем с датами"
   ]
  },
  {
   "cell_type": "code",
   "execution_count": 152,
   "metadata": {},
   "outputs": [],
   "source": [
    "ddata = data.with_columns(pl.col('Дата публикации').str.to_date(format=\"%m-%d-%y\", strict=False))\n",
    "ddata = ddata.with_columns(pl.col('Дата окончания приема заявок / Дата планового окончания исполнения контракта / Плановая дата публикации лота по ППГ').str.to_date(format=\"%m-%d-%y\", strict=False))\n",
    "ddata = ddata.with_columns(pl.col('Дата начала подачи заявок / Дата начала исполнения контракта / Дата публикации ППГ').str.to_date(format=\"%m-%d-%y\", strict=False))\n",
    "ddata = ddata.with_columns(pl.col('Дата окончания проведения торгов').str.to_date(format=\"%m-%d-%y\", strict=False))"
   ]
  },
  {
   "cell_type": "code",
   "execution_count": 156,
   "metadata": {},
   "outputs": [
    {
     "data": {
      "text/plain": [
       "(11460, 18)"
      ]
     },
     "execution_count": 156,
     "metadata": {},
     "output_type": "execute_result"
    }
   ],
   "source": [
    "data = ddata.filter(pl.col('Дата публикации').is_not_null() & \n",
    "                         pl.col('Дата окончания приема заявок / Дата планового окончания исполнения контракта / Плановая дата публикации лота по ППГ').is_not_null() & \n",
    "                         pl.col('Дата начала подачи заявок / Дата начала исполнения контракта / Дата публикации ППГ').is_not_null() & \n",
    "                         pl.col('Дата окончания проведения торгов').is_not_null())\n",
    "data.shape"
   ]
  },
  {
   "cell_type": "code",
   "execution_count": 159,
   "metadata": {},
   "outputs": [
    {
     "data": {
      "text/html": [
       "<div><style>\n",
       ".dataframe > thead > tr,\n",
       ".dataframe > tbody > tr {\n",
       "  text-align: right;\n",
       "  white-space: pre-wrap;\n",
       "}\n",
       "</style>\n",
       "<small>shape: (1, 18)</small><table border=\"1\" class=\"dataframe\"><thead><tr><th>Уровень</th><th>Заказчик</th><th>ИНН заказчика</th><th>Стоимость \n",
       "(руб.) Заказчик</th><th>Сфера деятельности</th><th>Регион поставки</th><th>Город поставки</th><th>Дата публикации</th><th>Дата окончания приема заявок / Дата планового окончания исполнения контракта / Плановая дата публикации лота по ППГ</th><th>Дата начала подачи заявок / Дата начала исполнения контракта / Дата публикации ППГ</th><th>Дата окончания проведения торгов</th><th>Поставщик</th><th>ИНН поставщика</th><th>Победитель</th><th>Статус допуска</th><th>Снижение на торгах,%</th><th>Форма публикации</th><th>Тип торгов</th></tr><tr><td>i64</td><td>str</td><td>i64</td><td>f64</td><td>str</td><td>str</td><td>str</td><td>date</td><td>date</td><td>date</td><td>date</td><td>str</td><td>i64</td><td>str</td><td>str</td><td>f64</td><td>str</td><td>str</td></tr></thead><tbody><tr><td>1</td><td>&quot;МУП &quot;РЕСУРС&quot;&quot;</td><td>6614001840</td><td>151972.23</td><td>&quot;[ОКПД2 28.14] Арматура трубопр…</td><td>&quot;Свердловская область&quot;</td><td>&quot;Свердловская область&quot;</td><td>2023-05-30</td><td>2023-05-31</td><td>2023-05-30</td><td>2023-05-30</td><td>&quot;ООО &quot;САНТЕХКОМПЛЕКТ-ТАГИЛ&quot;&quot;</td><td>6623019699</td><td>&quot;Победитель&quot;</td><td>&quot;Допущен&quot;</td><td>0.0</td><td>&quot;Торговая процедура&quot;</td><td>&quot;Закупка у единственного постав…</td></tr></tbody></table></div>"
      ],
      "text/plain": [
       "shape: (1, 18)\n",
       "┌─────────┬────────────┬───────────┬───────────┬───┬───────────┬───────────┬───────────┬───────────┐\n",
       "│ Уровень ┆ Заказчик   ┆ ИНН       ┆ Стоимость ┆ … ┆ Статус    ┆ Снижение  ┆ Форма пуб ┆ Тип       │\n",
       "│ ---     ┆ ---        ┆ заказчика ┆ (руб.)    ┆   ┆ допуска   ┆ на        ┆ ликации   ┆ торгов    │\n",
       "│ i64     ┆ str        ┆ ---       ┆ Заказчик  ┆   ┆ ---       ┆ торгах,%  ┆ ---       ┆ ---       │\n",
       "│         ┆            ┆ i64       ┆ ---       ┆   ┆ str       ┆ ---       ┆ str       ┆ str       │\n",
       "│         ┆            ┆           ┆ f64       ┆   ┆           ┆ f64       ┆           ┆           │\n",
       "╞═════════╪════════════╪═══════════╪═══════════╪═══╪═══════════╪═══════════╪═══════════╪═══════════╡\n",
       "│ 1       ┆ МУП        ┆ 661400184 ┆ 151972.23 ┆ … ┆ Допущен   ┆ 0.0       ┆ Торговая  ┆ Закупка у │\n",
       "│         ┆ \"РЕСУРС\"   ┆ 0         ┆           ┆   ┆           ┆           ┆ процедура ┆ единствен │\n",
       "│         ┆            ┆           ┆           ┆   ┆           ┆           ┆           ┆ ного      │\n",
       "│         ┆            ┆           ┆           ┆   ┆           ┆           ┆           ┆ постав…   │\n",
       "└─────────┴────────────┴───────────┴───────────┴───┴───────────┴───────────┴───────────┴───────────┘"
      ]
     },
     "execution_count": 159,
     "metadata": {},
     "output_type": "execute_result"
    }
   ],
   "source": [
    "data.head(1)"
   ]
  },
  {
   "cell_type": "code",
   "execution_count": 162,
   "metadata": {},
   "outputs": [
    {
     "data": {
      "text/plain": [
       "<xlsxwriter.workbook.Workbook at 0x12f3e06a0>"
      ]
     },
     "execution_count": 162,
     "metadata": {},
     "output_type": "execute_result"
    }
   ],
   "source": [
    "data.write_excel( dtype_formats={pl.Date: \"yyyy-mm-dd\"})"
   ]
  }
 ],
 "metadata": {
  "kernelspec": {
   "display_name": "Python 3",
   "language": "python",
   "name": "python3"
  },
  "language_info": {
   "codemirror_mode": {
    "name": "ipython",
    "version": 3
   },
   "file_extension": ".py",
   "mimetype": "text/x-python",
   "name": "python",
   "nbconvert_exporter": "python",
   "pygments_lexer": "ipython3",
   "version": "3.10.7"
  }
 },
 "nbformat": 4,
 "nbformat_minor": 2
}
