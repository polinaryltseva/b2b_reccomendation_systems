{
 "cells": [
  {
   "cell_type": "code",
   "execution_count": 1,
   "metadata": {},
   "outputs": [],
   "source": [
    "import polars as pl"
   ]
  },
  {
   "cell_type": "code",
   "execution_count": 18,
   "metadata": {},
   "outputs": [],
   "source": [
    "data1 = pl.read_excel(source='data/data1.xlsx', engine=\"xlsx2csv\", sheet_name=\"Результаты поиска\")\n",
    "data2 = pl.read_excel(source='data/data2.xlsx', engine=\"xlsx2csv\", sheet_name=\"Результаты поиска\")\n",
    "data3 = pl.read_excel(source='data/data3.xlsx', engine=\"xlsx2csv\", sheet_name=\"Результаты поиска\")\n",
    "data4 = pl.read_excel(source='data/data4.xlsx', engine=\"xlsx2csv\", sheet_name=\"Результаты поиска\")\n",
    "data5 = pl.read_excel(source='data/data5.xlsx', engine=\"xlsx2csv\", sheet_name=\"Результаты поиска\")"
   ]
  },
  {
   "cell_type": "markdown",
   "metadata": {},
   "source": [
    "Оставляем только те строки, где известен победитель и есть ИНН заказчика и поставщика."
   ]
  },
  {
   "cell_type": "code",
   "execution_count": 19,
   "metadata": {},
   "outputs": [],
   "source": [
    "fdata1 = data1.filter(pl.col(\"ИНН поставщика\").is_not_null() & pl.col(\"Победитель\").is_not_null() & pl.col(\"ИНН заказчика\").is_not_null())\n",
    "fdata2 = data2.filter(pl.col(\"ИНН поставщика\").is_not_null() & pl.col(\"Победитель\").is_not_null() & pl.col(\"ИНН заказчика\").is_not_null())\n",
    "fdata3 = data3.filter(pl.col(\"ИНН поставщика\").is_not_null() & pl.col(\"Победитель\").is_not_null() & pl.col(\"ИНН заказчика\").is_not_null())\n",
    "fdata4 = data4.filter(pl.col(\"ИНН поставщика\").is_not_null() & pl.col(\"Победитель\").is_not_null() & pl.col(\"ИНН заказчика\").is_not_null())\n",
    "fdata5 = data5.filter(pl.col(\"ИНН поставщика\").is_not_null() & pl.col(\"Победитель\").is_not_null() & pl.col(\"ИНН заказчика\").is_not_null())"
   ]
  },
  {
   "cell_type": "code",
   "execution_count": 146,
   "metadata": {},
   "outputs": [
    {
     "data": {
      "text/plain": [
       "(16240, 18)"
      ]
     },
     "execution_count": 146,
     "metadata": {},
     "output_type": "execute_result"
    }
   ],
   "source": [
    "data = pl.concat([fdata1, fdata2, fdata3, fdata5])\n",
    "data = data.with_columns(pl.col(\"ИНН поставщика\").str.to_integer())\n",
    "data = pl.concat([data, fdata4])\n",
    "data.shape"
   ]
  },
  {
   "cell_type": "code",
   "execution_count": 147,
   "metadata": {},
   "outputs": [],
   "source": [
    "data = data.rename({'Дата \\nокончания приема заявок / Дата планового окончания исполнения контракта / Плановая дата публикации лота по ППГ':'Дата окончания приема заявок / Дата планового окончания исполнения контракта / Плановая дата публикации лота по ППГ',\n",
    "                    'Дата начала подачи заявок/Дата начала исполнения контракта / Дата публикации ППГ' : 'Дата начала подачи заявок / Дата начала исполнения контракта / Дата публикации ППГ',\n",
    "                    'Дата  окончания проведения торгов' : 'Дата окончания проведения торгов'})"
   ]
  },
  {
   "cell_type": "markdown",
   "metadata": {},
   "source": [
    "Оставляем только те строки, где известно снижение на торгах и статус допуска допущен"
   ]
  },
  {
   "cell_type": "code",
   "execution_count": 148,
   "metadata": {},
   "outputs": [
    {
     "data": {
      "text/plain": [
       "(14765, 18)"
      ]
     },
     "execution_count": 148,
     "metadata": {},
     "output_type": "execute_result"
    }
   ],
   "source": [
    "data = data.filter((pl.col(\"Статус допуска\")==pl.lit(\"Допущен\")) & pl.col(\"Снижение на торгах,%\").is_not_null())\n",
    "data.shape"
   ]
  },
  {
   "cell_type": "markdown",
   "metadata": {},
   "source": [
    "Уберем нереалистичные значения в ставках в Снижение на торгах,% "
   ]
  },
  {
   "cell_type": "code",
   "execution_count": 151,
   "metadata": {},
   "outputs": [
    {
     "data": {
      "text/plain": [
       "(14739, 18)"
      ]
     },
     "execution_count": 151,
     "metadata": {},
     "output_type": "execute_result"
    }
   ],
   "source": [
    "data = data.filter(pl.col('Снижение на торгах,%')>=-100)\n",
    "data.shape"
   ]
  },
  {
   "cell_type": "markdown",
   "metadata": {},
   "source": [
    "Теперь работаем с датами"
   ]
  },
  {
   "cell_type": "code",
   "execution_count": 152,
   "metadata": {},
   "outputs": [],
   "source": [
    "ddata = data.with_columns(pl.col('Дата публикации').str.to_date(format=\"%m-%d-%y\", strict=False))\n",
    "ddata = ddata.with_columns(pl.col('Дата окончания приема заявок / Дата планового окончания исполнения контракта / Плановая дата публикации лота по ППГ').str.to_date(format=\"%m-%d-%y\", strict=False))\n",
    "ddata = ddata.with_columns(pl.col('Дата начала подачи заявок / Дата начала исполнения контракта / Дата публикации ППГ').str.to_date(format=\"%m-%d-%y\", strict=False))\n",
    "ddata = ddata.with_columns(pl.col('Дата окончания проведения торгов').str.to_date(format=\"%m-%d-%y\", strict=False))"
   ]
  },
  {
   "cell_type": "code",
   "execution_count": 156,
   "metadata": {},
   "outputs": [
    {
     "data": {
      "text/plain": [
       "(11460, 18)"
      ]
     },
     "execution_count": 156,
     "metadata": {},
     "output_type": "execute_result"
    }
   ],
   "source": [
    "data = ddata.filter(pl.col('Дата публикации').is_not_null() & \n",
    "                         pl.col('Дата окончания приема заявок / Дата планового окончания исполнения контракта / Плановая дата публикации лота по ППГ').is_not_null() & \n",
    "                         pl.col('Дата начала подачи заявок / Дата начала исполнения контракта / Дата публикации ППГ').is_not_null() & \n",
    "                         pl.col('Дата окончания проведения торгов').is_not_null())\n",
    "data.shape"
   ]
  },
  {
   "cell_type": "code",
   "execution_count": 159,
   "metadata": {},
   "outputs": [
    {
     "data": {
      "text/html": [
       "<div><style>\n",
       ".dataframe > thead > tr,\n",
       ".dataframe > tbody > tr {\n",
       "  text-align: right;\n",
       "  white-space: pre-wrap;\n",
       "}\n",
       "</style>\n",
       "<small>shape: (1, 18)</small><table border=\"1\" class=\"dataframe\"><thead><tr><th>Уровень</th><th>Заказчик</th><th>ИНН заказчика</th><th>Стоимость \n",
       "(руб.) Заказчик</th><th>Сфера деятельности</th><th>Регион поставки</th><th>Город поставки</th><th>Дата публикации</th><th>Дата окончания приема заявок / Дата планового окончания исполнения контракта / Плановая дата публикации лота по ППГ</th><th>Дата начала подачи заявок / Дата начала исполнения контракта / Дата публикации ППГ</th><th>Дата окончания проведения торгов</th><th>Поставщик</th><th>ИНН поставщика</th><th>Победитель</th><th>Статус допуска</th><th>Снижение на торгах,%</th><th>Форма публикации</th><th>Тип торгов</th></tr><tr><td>i64</td><td>str</td><td>i64</td><td>f64</td><td>str</td><td>str</td><td>str</td><td>date</td><td>date</td><td>date</td><td>date</td><td>str</td><td>i64</td><td>str</td><td>str</td><td>f64</td><td>str</td><td>str</td></tr></thead><tbody><tr><td>1</td><td>&quot;МУП &quot;РЕСУРС&quot;&quot;</td><td>6614001840</td><td>151972.23</td><td>&quot;[ОКПД2 28.14] Арматура трубопр…</td><td>&quot;Свердловская область&quot;</td><td>&quot;Свердловская область&quot;</td><td>2023-05-30</td><td>2023-05-31</td><td>2023-05-30</td><td>2023-05-30</td><td>&quot;ООО &quot;САНТЕХКОМПЛЕКТ-ТАГИЛ&quot;&quot;</td><td>6623019699</td><td>&quot;Победитель&quot;</td><td>&quot;Допущен&quot;</td><td>0.0</td><td>&quot;Торговая процедура&quot;</td><td>&quot;Закупка у единственного постав…</td></tr></tbody></table></div>"
      ],
      "text/plain": [
       "shape: (1, 18)\n",
       "┌─────────┬────────────┬───────────┬───────────┬───┬───────────┬───────────┬───────────┬───────────┐\n",
       "│ Уровень ┆ Заказчик   ┆ ИНН       ┆ Стоимость ┆ … ┆ Статус    ┆ Снижение  ┆ Форма пуб ┆ Тип       │\n",
       "│ ---     ┆ ---        ┆ заказчика ┆ (руб.)    ┆   ┆ допуска   ┆ на        ┆ ликации   ┆ торгов    │\n",
       "│ i64     ┆ str        ┆ ---       ┆ Заказчик  ┆   ┆ ---       ┆ торгах,%  ┆ ---       ┆ ---       │\n",
       "│         ┆            ┆ i64       ┆ ---       ┆   ┆ str       ┆ ---       ┆ str       ┆ str       │\n",
       "│         ┆            ┆           ┆ f64       ┆   ┆           ┆ f64       ┆           ┆           │\n",
       "╞═════════╪════════════╪═══════════╪═══════════╪═══╪═══════════╪═══════════╪═══════════╪═══════════╡\n",
       "│ 1       ┆ МУП        ┆ 661400184 ┆ 151972.23 ┆ … ┆ Допущен   ┆ 0.0       ┆ Торговая  ┆ Закупка у │\n",
       "│         ┆ \"РЕСУРС\"   ┆ 0         ┆           ┆   ┆           ┆           ┆ процедура ┆ единствен │\n",
       "│         ┆            ┆           ┆           ┆   ┆           ┆           ┆           ┆ ного      │\n",
       "│         ┆            ┆           ┆           ┆   ┆           ┆           ┆           ┆ постав…   │\n",
       "└─────────┴────────────┴───────────┴───────────┴───┴───────────┴───────────┴───────────┴───────────┘"
      ]
     },
     "execution_count": 159,
     "metadata": {},
     "output_type": "execute_result"
    }
   ],
   "source": [
    "data.head(1)"
   ]
  },
  {
   "cell_type": "code",
   "execution_count": 162,
   "metadata": {},
   "outputs": [
    {
     "data": {
      "text/plain": [
       "<xlsxwriter.workbook.Workbook at 0x12f3e06a0>"
      ]
     },
     "execution_count": 162,
     "metadata": {},
     "output_type": "execute_result"
    }
   ],
   "source": [
    "data.write_excel( dtype_formats={pl.Date: \"yyyy-mm-dd\"})"
   ]
  },
  {
   "cell_type": "markdown",
   "metadata": {},
   "source": [
    "Добавляем реестр недобросовестных поставщиков"
   ]
  },
  {
   "cell_type": "code",
   "execution_count": 168,
   "metadata": {},
   "outputs": [
    {
     "data": {
      "text/html": [
       "<div><style>\n",
       ".dataframe > thead > tr,\n",
       ".dataframe > tbody > tr {\n",
       "  text-align: right;\n",
       "  white-space: pre-wrap;\n",
       "}\n",
       "</style>\n",
       "<small>shape: (1_000, 4)</small><table border=\"1\" class=\"dataframe\"><thead><tr><th>suplier_name</th><th>suplier_inn</th><th>no_trust_now</th><th>no_trust_before</th></tr><tr><td>str</td><td>str</td><td>i64</td><td>i64</td></tr></thead><tbody><tr><td>&quot;ОБЩЕСТВО С ОГРАНИЧЕННОЙ ОТВЕТС…</td><td>&quot;7203489478&quot;</td><td>0</td><td>1</td></tr><tr><td>&quot;ООО ЧОО «ГРОМ»&quot;</td><td>&quot;7718970047&quot;</td><td>0</td><td>1</td></tr><tr><td>&quot;ООО ЧОО «ГРОМ»&quot;</td><td>&quot;7718970047&quot;</td><td>0</td><td>1</td></tr><tr><td>&quot;НЕДАШКОВСКИЙ АРТЕМ АНАТОЛЬЕВИЧ&quot;</td><td>&quot;420523840689&quot;</td><td>0</td><td>1</td></tr><tr><td>&quot;ОБЩЕСТВО С ОГРАНИЧЕННОЙ\n",
       "ОТВЕТС…</td><td>&quot;5404071052&quot;</td><td>0</td><td>1</td></tr><tr><td>&hellip;</td><td>&hellip;</td><td>&hellip;</td><td>&hellip;</td></tr><tr><td>&quot;ОБЩЕСТВО С ОГРАНИЧЕННОЙ ОТВЕТС…</td><td>&quot;9701073162&quot;</td><td>0</td><td>1</td></tr><tr><td>&quot;общество с ограниченной ответс…</td><td>&quot;7606112298&quot;</td><td>0</td><td>1</td></tr><tr><td>&quot;ИП Пименов Т.П.&quot;</td><td>&quot;772479558684&quot;</td><td>0</td><td>1</td></tr><tr><td>&quot;ООО «МИСТЕРИА ФЛОРИС»&quot;</td><td>&quot;5047180862&quot;</td><td>0</td><td>1</td></tr><tr><td>&quot;ОБЩЕСТВО С ОГРАНИЧЕННОЙ ОТВЕТС…</td><td>&quot;7720414840&quot;</td><td>0</td><td>1</td></tr></tbody></table></div>"
      ],
      "text/plain": [
       "shape: (1_000, 4)\n",
       "┌─────────────────────────────────┬──────────────┬──────────────┬─────────────────┐\n",
       "│ suplier_name                    ┆ suplier_inn  ┆ no_trust_now ┆ no_trust_before │\n",
       "│ ---                             ┆ ---          ┆ ---          ┆ ---             │\n",
       "│ str                             ┆ str          ┆ i64          ┆ i64             │\n",
       "╞═════════════════════════════════╪══════════════╪══════════════╪═════════════════╡\n",
       "│ ОБЩЕСТВО С ОГРАНИЧЕННОЙ ОТВЕТС… ┆ 7203489478   ┆ 0            ┆ 1               │\n",
       "│ ООО ЧОО «ГРОМ»                  ┆ 7718970047   ┆ 0            ┆ 1               │\n",
       "│ ООО ЧОО «ГРОМ»                  ┆ 7718970047   ┆ 0            ┆ 1               │\n",
       "│ НЕДАШКОВСКИЙ АРТЕМ АНАТОЛЬЕВИЧ  ┆ 420523840689 ┆ 0            ┆ 1               │\n",
       "│ ОБЩЕСТВО С ОГРАНИЧЕННОЙ         ┆ 5404071052   ┆ 0            ┆ 1               │\n",
       "│ ОТВЕТС…                         ┆              ┆              ┆                 │\n",
       "│ …                               ┆ …            ┆ …            ┆ …               │\n",
       "│ ОБЩЕСТВО С ОГРАНИЧЕННОЙ ОТВЕТС… ┆ 9701073162   ┆ 0            ┆ 1               │\n",
       "│ общество с ограниченной ответс… ┆ 7606112298   ┆ 0            ┆ 1               │\n",
       "│ ИП Пименов Т.П.                 ┆ 772479558684 ┆ 0            ┆ 1               │\n",
       "│ ООО «МИСТЕРИА ФЛОРИС»           ┆ 5047180862   ┆ 0            ┆ 1               │\n",
       "│ ОБЩЕСТВО С ОГРАНИЧЕННОЙ ОТВЕТС… ┆ 7720414840   ┆ 0            ┆ 1               │\n",
       "└─────────────────────────────────┴──────────────┴──────────────┴─────────────────┘"
      ]
     },
     "execution_count": 168,
     "metadata": {},
     "output_type": "execute_result"
    }
   ],
   "source": [
    "notrust = pl.read_json('notrust_list/res.json')\n",
    "notrust"
   ]
  },
  {
   "cell_type": "code",
   "execution_count": 169,
   "metadata": {},
   "outputs": [
    {
     "data": {
      "text/html": [
       "<div><style>\n",
       ".dataframe > thead > tr,\n",
       ".dataframe > tbody > tr {\n",
       "  text-align: right;\n",
       "  white-space: pre-wrap;\n",
       "}\n",
       "</style>\n",
       "<small>shape: (1, 4)</small><table border=\"1\" class=\"dataframe\"><thead><tr><th>Поставщик</th><th>ИНН поставщика</th><th>РНП сейчас</th><th>РНП ранее</th></tr><tr><td>str</td><td>i64</td><td>i64</td><td>i64</td></tr></thead><tbody><tr><td>&quot;ОБЩЕСТВО С ОГРАНИЧЕННОЙ ОТВЕТС…</td><td>7203489478</td><td>0</td><td>1</td></tr></tbody></table></div>"
      ],
      "text/plain": [
       "shape: (1, 4)\n",
       "┌─────────────────────────────────┬────────────────┬────────────┬───────────┐\n",
       "│ Поставщик                       ┆ ИНН поставщика ┆ РНП сейчас ┆ РНП ранее │\n",
       "│ ---                             ┆ ---            ┆ ---        ┆ ---       │\n",
       "│ str                             ┆ i64            ┆ i64        ┆ i64       │\n",
       "╞═════════════════════════════════╪════════════════╪════════════╪═══════════╡\n",
       "│ ОБЩЕСТВО С ОГРАНИЧЕННОЙ ОТВЕТС… ┆ 7203489478     ┆ 0          ┆ 1         │\n",
       "└─────────────────────────────────┴────────────────┴────────────┴───────────┘"
      ]
     },
     "execution_count": 169,
     "metadata": {},
     "output_type": "execute_result"
    }
   ],
   "source": [
    "notrust = notrust.rename({'suplier_name':'Поставщик', 'suplier_inn':'ИНН поставщика', 'no_trust_now':'РНП сейчас', 'no_trust_before':'РНП ранее'})\n",
    "notrust = notrust.with_columns(pl.col('ИНН поставщика').str.to_integer())\n",
    "notrust.head(1)"
   ]
  },
  {
   "cell_type": "code",
   "execution_count": 171,
   "metadata": {},
   "outputs": [
    {
     "data": {
      "text/html": [
       "<div><style>\n",
       ".dataframe > thead > tr,\n",
       ".dataframe > tbody > tr {\n",
       "  text-align: right;\n",
       "  white-space: pre-wrap;\n",
       "}\n",
       "</style>\n",
       "<small>shape: (11_460, 21)</small><table border=\"1\" class=\"dataframe\"><thead><tr><th>Уровень</th><th>Заказчик</th><th>ИНН заказчика</th><th>Стоимость \n",
       "(руб.) Заказчик</th><th>Сфера деятельности</th><th>Регион поставки</th><th>Город поставки</th><th>Дата публикации</th><th>Дата окончания приема заявок / Дата планового окончания исполнения контракта / Плановая дата публикации лота по ППГ</th><th>Дата начала подачи заявок / Дата начала исполнения контракта / Дата публикации ППГ</th><th>Дата окончания проведения торгов</th><th>Поставщик</th><th>ИНН поставщика</th><th>Победитель</th><th>Статус допуска</th><th>Снижение на торгах,%</th><th>Форма публикации</th><th>Тип торгов</th><th>Поставщик_right</th><th>РНП сейчас</th><th>РНП ранее</th></tr><tr><td>i64</td><td>str</td><td>i64</td><td>f64</td><td>str</td><td>str</td><td>str</td><td>date</td><td>date</td><td>date</td><td>date</td><td>str</td><td>i64</td><td>str</td><td>str</td><td>f64</td><td>str</td><td>str</td><td>str</td><td>i64</td><td>i64</td></tr></thead><tbody><tr><td>1</td><td>&quot;МУП &quot;РЕСУРС&quot;&quot;</td><td>6614001840</td><td>151972.23</td><td>&quot;[ОКПД2 28.14] Арматура трубопр…</td><td>&quot;Свердловская область&quot;</td><td>&quot;Свердловская область&quot;</td><td>2023-05-30</td><td>2023-05-31</td><td>2023-05-30</td><td>2023-05-30</td><td>&quot;ООО &quot;САНТЕХКОМПЛЕКТ-ТАГИЛ&quot;&quot;</td><td>6623019699</td><td>&quot;Победитель&quot;</td><td>&quot;Допущен&quot;</td><td>0.0</td><td>&quot;Торговая процедура&quot;</td><td>&quot;Закупка у единственного постав…</td><td>null</td><td>null</td><td>null</td></tr><tr><td>1</td><td>&quot;ФГАОУ ДПО &quot;АКАДЕМИЯ МИНПРОСВЕЩ…</td><td>7718084063</td><td>419200.0</td><td>&quot;[ОКПД2 26.20] Компьютеры и пер…</td><td>&quot;Москва&quot;</td><td>&quot;Москва&quot;</td><td>2023-05-31</td><td>2023-05-31</td><td>2023-05-31</td><td>2023-05-31</td><td>&quot;ООО &quot;АКСОН&quot;&quot;</td><td>9723096364</td><td>&quot;Победитель&quot;</td><td>&quot;Допущен&quot;</td><td>0.0</td><td>&quot;Торговая процедура&quot;</td><td>&quot;Закупка у единственного постав…</td><td>null</td><td>null</td><td>null</td></tr><tr><td>1</td><td>&quot;ФГАОУ ДПО &quot;АКАДЕМИЯ МИНПРОСВЕЩ…</td><td>7718084063</td><td>498200.0</td><td>&quot;[ОКПД2 63.11] Услуги по обрабо…</td><td>&quot;Москва&quot;</td><td>&quot;Москва&quot;</td><td>2023-05-31</td><td>2023-05-31</td><td>2023-05-31</td><td>2023-05-31</td><td>&quot;ООО &quot;ЛАБОРАТОРИЯ ЗАЩИТЫ ИНФОРМ…</td><td>7720346630</td><td>&quot;Победитель&quot;</td><td>&quot;Допущен&quot;</td><td>0.0</td><td>&quot;Торговая процедура&quot;</td><td>&quot;Закупка у единственного постав…</td><td>null</td><td>null</td><td>null</td></tr><tr><td>2</td><td>&quot;АО &quot;ГГЭС&quot;&quot;</td><td>2625032987</td><td>null</td><td>&quot;[ОКПД2 46.69] Услуги по оптово…</td><td>&quot;Ставропольский край&quot;</td><td>&quot;Ставропольский край&quot;</td><td>2023-05-24</td><td>2023-05-31</td><td>2023-05-24</td><td>2023-05-31</td><td>&quot;ООО &quot;ЭКСПЕРТ-ЭЛЕКТРО&quot;&quot;</td><td>3023017366</td><td>&quot;Победитель&quot;</td><td>&quot;Допущен&quot;</td><td>0.0009</td><td>&quot;Торговая процедура&quot;</td><td>null</td><td>null</td><td>null</td><td>null</td></tr><tr><td>1</td><td>&quot;ФГАОУ ДПО &quot;АКАДЕМИЯ МИНПРОСВЕЩ…</td><td>7718084063</td><td>246959.0</td><td>&quot;[ОКПД2 71.20] Услуги в области…</td><td>&quot;Санкт-Петербург&quot;</td><td>&quot;Санкт-Петербург&quot;</td><td>2023-05-31</td><td>2023-05-31</td><td>2023-05-31</td><td>2023-05-31</td><td>&quot;ФГБОУ ВО РГПУ ИМ. А. И. ГЕРЦЕН…</td><td>7808027849</td><td>&quot;Победитель&quot;</td><td>&quot;Допущен&quot;</td><td>0.0</td><td>&quot;Торговая процедура&quot;</td><td>&quot;Закупка у единственного постав…</td><td>null</td><td>null</td><td>null</td></tr><tr><td>&hellip;</td><td>&hellip;</td><td>&hellip;</td><td>&hellip;</td><td>&hellip;</td><td>&hellip;</td><td>&hellip;</td><td>&hellip;</td><td>&hellip;</td><td>&hellip;</td><td>&hellip;</td><td>&hellip;</td><td>&hellip;</td><td>&hellip;</td><td>&hellip;</td><td>&hellip;</td><td>&hellip;</td><td>&hellip;</td><td>&hellip;</td><td>&hellip;</td><td>&hellip;</td></tr><tr><td>1</td><td>&quot;МУП АГО &quot;АНГАРСКИЙ ВОДОКАНАЛ&quot;&quot;</td><td>3801006828</td><td>4.6278e6</td><td>&quot;[ОКПД2 42.21] Сооружения и стр…</td><td>&quot;Иркутская область&quot;</td><td>&quot;Иркутская область&quot;</td><td>2024-05-24</td><td>2024-06-03</td><td>2024-05-23</td><td>2024-06-04</td><td>&quot;Драгунов Николай Александрович&quot;</td><td>380101928348</td><td>&quot;Победитель&quot;</td><td>&quot;Допущен&quot;</td><td>0.166782</td><td>&quot;Торговая процедура&quot;</td><td>&quot;Запрос цен&quot;</td><td>null</td><td>null</td><td>null</td></tr><tr><td>1</td><td>&quot;АО &quot;ГУБЕРНСКИЕ АПТЕКИ&quot;&quot;</td><td>2466189073</td><td>1.89e6</td><td>&quot;[ОКПД2 21.20] Препараты лекарс…</td><td>&quot;Красноярский край&quot;</td><td>&quot;Красноярск&quot;</td><td>2024-05-27</td><td>2024-06-03</td><td>2024-05-27</td><td>2024-06-03</td><td>&quot;ООО &quot;ФАРМЛАЙН&quot;&quot;</td><td>7714511476</td><td>&quot;Победитель&quot;</td><td>&quot;Допущен&quot;</td><td>0.000003</td><td>&quot;Торговая процедура&quot;</td><td>&quot;Запрос цен&quot;</td><td>null</td><td>null</td><td>null</td></tr><tr><td>1</td><td>&quot;АО &quot;ГУБЕРНСКИЕ АПТЕКИ&quot;&quot;</td><td>2466189073</td><td>1.3969e7</td><td>&quot;[ОКПД2 21.20] Препараты лекарс…</td><td>&quot;Красноярский край&quot;</td><td>&quot;Красноярск&quot;</td><td>2024-05-27</td><td>2024-06-03</td><td>2024-05-27</td><td>2024-06-03</td><td>&quot;ООО &quot;ПУЛЬСАР&quot;&quot;</td><td>5074072016</td><td>&quot;Победитель&quot;</td><td>&quot;Допущен&quot;</td><td>0.0</td><td>&quot;Торговая процедура&quot;</td><td>&quot;Запрос цен&quot;</td><td>null</td><td>null</td><td>null</td></tr><tr><td>1</td><td>&quot;МАУ АГО &quot;АНГАРА&quot;&quot;</td><td>3801112135</td><td>2.1303e6</td><td>&quot;[ОКПД2 42.22] Сооружения и стр…</td><td>&quot;Иркутская область&quot;</td><td>&quot;Иркутская область&quot;</td><td>2024-06-03</td><td>2024-06-03</td><td>2024-06-02</td><td>2024-06-02</td><td>&quot;Цыгальницкий Андрей Александро…</td><td>380121275418</td><td>&quot;Победитель&quot;</td><td>&quot;Допущен&quot;</td><td>0.0</td><td>&quot;Торговая процедура&quot;</td><td>&quot;Закупка у единственного постав…</td><td>null</td><td>null</td><td>null</td></tr><tr><td>2</td><td>&quot;АО &quot;МОСЛИФТ&quot;&quot;</td><td>7714941510</td><td>null</td><td>&quot;[ОКПД2 23.91] Изделия абразивн…</td><td>&quot;Москва&quot;</td><td>&quot;Москва&quot;</td><td>2024-05-24</td><td>2024-06-03</td><td>2024-05-24</td><td>2024-06-03</td><td>&quot;ООО &quot;АЛЬФА РАМЕНКА&quot;&quot;</td><td>5040072272</td><td>&quot;Победитель&quot;</td><td>&quot;Допущен&quot;</td><td>0.50044</td><td>&quot;Торговая процедура&quot;</td><td>null</td><td>null</td><td>null</td><td>null</td></tr></tbody></table></div>"
      ],
      "text/plain": [
       "shape: (11_460, 21)\n",
       "┌─────────┬────────────┬────────────┬────────────┬───┬────────────┬───────────┬────────┬───────────┐\n",
       "│ Уровень ┆ Заказчик   ┆ ИНН        ┆ Стоимость  ┆ … ┆ Тип торгов ┆ Поставщик ┆ РНП    ┆ РНП ранее │\n",
       "│ ---     ┆ ---        ┆ заказчика  ┆ (руб.)     ┆   ┆ ---        ┆ _right    ┆ сейчас ┆ ---       │\n",
       "│ i64     ┆ str        ┆ ---        ┆ Заказчик   ┆   ┆ str        ┆ ---       ┆ ---    ┆ i64       │\n",
       "│         ┆            ┆ i64        ┆ ---        ┆   ┆            ┆ str       ┆ i64    ┆           │\n",
       "│         ┆            ┆            ┆ f64        ┆   ┆            ┆           ┆        ┆           │\n",
       "╞═════════╪════════════╪════════════╪════════════╪═══╪════════════╪═══════════╪════════╪═══════════╡\n",
       "│ 1       ┆ МУП        ┆ 6614001840 ┆ 151972.23  ┆ … ┆ Закупка у  ┆ null      ┆ null   ┆ null      │\n",
       "│         ┆ \"РЕСУРС\"   ┆            ┆            ┆   ┆ единственн ┆           ┆        ┆           │\n",
       "│         ┆            ┆            ┆            ┆   ┆ ого        ┆           ┆        ┆           │\n",
       "│         ┆            ┆            ┆            ┆   ┆ постав…    ┆           ┆        ┆           │\n",
       "│ 1       ┆ ФГАОУ ДПО  ┆ 7718084063 ┆ 419200.0   ┆ … ┆ Закупка у  ┆ null      ┆ null   ┆ null      │\n",
       "│         ┆ \"АКАДЕМИЯ  ┆            ┆            ┆   ┆ единственн ┆           ┆        ┆           │\n",
       "│         ┆ МИНПРОСВЕЩ ┆            ┆            ┆   ┆ ого        ┆           ┆        ┆           │\n",
       "│         ┆ …          ┆            ┆            ┆   ┆ постав…    ┆           ┆        ┆           │\n",
       "│ 1       ┆ ФГАОУ ДПО  ┆ 7718084063 ┆ 498200.0   ┆ … ┆ Закупка у  ┆ null      ┆ null   ┆ null      │\n",
       "│         ┆ \"АКАДЕМИЯ  ┆            ┆            ┆   ┆ единственн ┆           ┆        ┆           │\n",
       "│         ┆ МИНПРОСВЕЩ ┆            ┆            ┆   ┆ ого        ┆           ┆        ┆           │\n",
       "│         ┆ …          ┆            ┆            ┆   ┆ постав…    ┆           ┆        ┆           │\n",
       "│ 2       ┆ АО \"ГГЭС\"  ┆ 2625032987 ┆ null       ┆ … ┆ null       ┆ null      ┆ null   ┆ null      │\n",
       "│ 1       ┆ ФГАОУ ДПО  ┆ 7718084063 ┆ 246959.0   ┆ … ┆ Закупка у  ┆ null      ┆ null   ┆ null      │\n",
       "│         ┆ \"АКАДЕМИЯ  ┆            ┆            ┆   ┆ единственн ┆           ┆        ┆           │\n",
       "│         ┆ МИНПРОСВЕЩ ┆            ┆            ┆   ┆ ого        ┆           ┆        ┆           │\n",
       "│         ┆ …          ┆            ┆            ┆   ┆ постав…    ┆           ┆        ┆           │\n",
       "│ …       ┆ …          ┆ …          ┆ …          ┆ … ┆ …          ┆ …         ┆ …      ┆ …         │\n",
       "│ 1       ┆ МУП АГО    ┆ 3801006828 ┆ 4.6278e6   ┆ … ┆ Запрос цен ┆ null      ┆ null   ┆ null      │\n",
       "│         ┆ \"АНГАРСКИЙ ┆            ┆            ┆   ┆            ┆           ┆        ┆           │\n",
       "│         ┆ ВОДОКАНАЛ\" ┆            ┆            ┆   ┆            ┆           ┆        ┆           │\n",
       "│ 1       ┆ АО \"ГУБЕРН ┆ 2466189073 ┆ 1.89e6     ┆ … ┆ Запрос цен ┆ null      ┆ null   ┆ null      │\n",
       "│         ┆ СКИЕ       ┆            ┆            ┆   ┆            ┆           ┆        ┆           │\n",
       "│         ┆ АПТЕКИ\"    ┆            ┆            ┆   ┆            ┆           ┆        ┆           │\n",
       "│ 1       ┆ АО \"ГУБЕРН ┆ 2466189073 ┆ 1.3969e7   ┆ … ┆ Запрос цен ┆ null      ┆ null   ┆ null      │\n",
       "│         ┆ СКИЕ       ┆            ┆            ┆   ┆            ┆           ┆        ┆           │\n",
       "│         ┆ АПТЕКИ\"    ┆            ┆            ┆   ┆            ┆           ┆        ┆           │\n",
       "│ 1       ┆ МАУ АГО    ┆ 3801112135 ┆ 2.1303e6   ┆ … ┆ Закупка у  ┆ null      ┆ null   ┆ null      │\n",
       "│         ┆ \"АНГАРА\"   ┆            ┆            ┆   ┆ единственн ┆           ┆        ┆           │\n",
       "│         ┆            ┆            ┆            ┆   ┆ ого        ┆           ┆        ┆           │\n",
       "│         ┆            ┆            ┆            ┆   ┆ постав…    ┆           ┆        ┆           │\n",
       "│ 2       ┆ АО         ┆ 7714941510 ┆ null       ┆ … ┆ null       ┆ null      ┆ null   ┆ null      │\n",
       "│         ┆ \"МОСЛИФТ\"  ┆            ┆            ┆   ┆            ┆           ┆        ┆           │\n",
       "└─────────┴────────────┴────────────┴────────────┴───┴────────────┴───────────┴────────┴───────────┘"
      ]
     },
     "execution_count": 171,
     "metadata": {},
     "output_type": "execute_result"
    }
   ],
   "source": [
    "datar = data.join(other=notrust, on='ИНН поставщика', how='left')\n",
    "datar"
   ]
  },
  {
   "cell_type": "code",
   "execution_count": 177,
   "metadata": {},
   "outputs": [],
   "source": [
    "datar = datar.with_columns(pl.when(pl.col('РНП сейчас').is_null()).then(0).alias('РНП сейчас'), pl.when(pl.col('РНП ранее').is_null()).then(0).alias('РНП ранее'))"
   ]
  },
  {
   "cell_type": "code",
   "execution_count": 179,
   "metadata": {},
   "outputs": [
    {
     "data": {
      "text/html": [
       "<div><style>\n",
       ".dataframe > thead > tr,\n",
       ".dataframe > tbody > tr {\n",
       "  text-align: right;\n",
       "  white-space: pre-wrap;\n",
       "}\n",
       "</style>\n",
       "<small>shape: (0, 21)</small><table border=\"1\" class=\"dataframe\"><thead><tr><th>Уровень</th><th>Заказчик</th><th>ИНН заказчика</th><th>Стоимость \n",
       "(руб.) Заказчик</th><th>Сфера деятельности</th><th>Регион поставки</th><th>Город поставки</th><th>Дата публикации</th><th>Дата окончания приема заявок / Дата планового окончания исполнения контракта / Плановая дата публикации лота по ППГ</th><th>Дата начала подачи заявок / Дата начала исполнения контракта / Дата публикации ППГ</th><th>Дата окончания проведения торгов</th><th>Поставщик</th><th>ИНН поставщика</th><th>Победитель</th><th>Статус допуска</th><th>Снижение на торгах,%</th><th>Форма публикации</th><th>Тип торгов</th><th>Поставщик_right</th><th>РНП сейчас</th><th>РНП ранее</th></tr><tr><td>i64</td><td>str</td><td>i64</td><td>f64</td><td>str</td><td>str</td><td>str</td><td>date</td><td>date</td><td>date</td><td>date</td><td>str</td><td>i64</td><td>str</td><td>str</td><td>f64</td><td>str</td><td>str</td><td>str</td><td>i32</td><td>i32</td></tr></thead><tbody></tbody></table></div>"
      ],
      "text/plain": [
       "shape: (0, 21)\n",
       "┌─────────┬──────────┬─────────────┬────────────┬───┬────────┬────────────┬────────────┬───────────┐\n",
       "│ Уровень ┆ Заказчик ┆ ИНН         ┆ Стоимость  ┆ … ┆ Тип    ┆ Поставщик_ ┆ РНП сейчас ┆ РНП ранее │\n",
       "│ ---     ┆ ---      ┆ заказчика   ┆ (руб.)     ┆   ┆ торгов ┆ right      ┆ ---        ┆ ---       │\n",
       "│ i64     ┆ str      ┆ ---         ┆ Заказчик   ┆   ┆ ---    ┆ ---        ┆ i32        ┆ i32       │\n",
       "│         ┆          ┆ i64         ┆ ---        ┆   ┆ str    ┆ str        ┆            ┆           │\n",
       "│         ┆          ┆             ┆ f64        ┆   ┆        ┆            ┆            ┆           │\n",
       "╞═════════╪══════════╪═════════════╪════════════╪═══╪════════╪════════════╪════════════╪═══════════╡\n",
       "└─────────┴──────────┴─────────────┴────────────┴───┴────────┴────────────┴────────────┴───────────┘"
      ]
     },
     "execution_count": 179,
     "metadata": {},
     "output_type": "execute_result"
    }
   ],
   "source": [
    "datar.filter(pl.col('РНП сейчас')==1)"
   ]
  }
 ],
 "metadata": {
  "kernelspec": {
   "display_name": "Python 3",
   "language": "python",
   "name": "python3"
  },
  "language_info": {
   "codemirror_mode": {
    "name": "ipython",
    "version": 3
   },
   "file_extension": ".py",
   "mimetype": "text/x-python",
   "name": "python",
   "nbconvert_exporter": "python",
   "pygments_lexer": "ipython3",
   "version": "3.10.7"
  }
 },
 "nbformat": 4,
 "nbformat_minor": 2
}
